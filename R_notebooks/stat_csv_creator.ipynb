{
 "cells": [
  {
   "cell_type": "code",
   "execution_count": 10,
   "outputs": [],
   "source": [
    "dir_files <- \"/Users/imrankabir/Desktop/research/vqa_accessibility/result_generator/data/result_april_2/output/csv/\"\n",
    "out_dir <- \"/Users/imrankabir/Desktop/research/vqa_accessibility/result_generator/results/r_tables/\"\n",
    "\n",
    "for (file in list.files(dir_files)){\n",
    "    data <- read.csv(paste(dir_files, file, sep=\"\"))\n",
    "\n",
    "    gt <- data$gt.cosine.similarity\n",
    "    y_vqa <- data$VQA.cosine.similarity\n",
    "    y_resnet152 <- data$resnet.152.feature.similarity\n",
    "\n",
    "    pairs <- list(\n",
    "        list('gpv vs gt', gt, y_vqa),\n",
    "        list('resnet152 vs gt', gt, y_resnet152)\n",
    "    )\n",
    "\n",
    "    row <- c('')\n",
    "    titles <- c(\"Title\")\n",
    "    correlations <- c(\"Correlation\")\n",
    "    f_statistics <- c(\"F Statistics\")\n",
    "    multiple_r_squareds <- c(\"Multiple R-squareds\")\n",
    "    p_values <- c(\"P Values\")\n",
    "    coeff_interps <- c(\"Coefficent (intercept Pr(>|t|))\")\n",
    "    coeff_row_2s <- c(\"Coefficent (Row 2 Pr(>|t|))\")\n",
    "\n",
    "    for (i in 1:length(pairs)){\n",
    "        pair = pairs[[i]]\n",
    "        title <- pair[[1]]\n",
    "        x <- pair[[2]]\n",
    "        y <- pair[[3]]\n",
    "\n",
    "        model <- lm(y~x)\n",
    "\n",
    "        f_stat_val <- unname(summary(model)$fstatistic[1])\n",
    "        numdf <- unname(summary(model)$fstatistic[2])\n",
    "        dendf <- unname(summary(model)$fstatistic[3])\n",
    "\n",
    "        corr <- cor(y, x)\n",
    "        f_stat <- sprintf(\"%s on %s DoF\", f_stat_val, dendf)\n",
    "        r_squared <- summary(model)$r.squared\n",
    "        p_val <- anova(model)$'Pr(>F)'[1]\n",
    "        coeff_interp <- summary(model)$coefficients[1,\"Pr(>|t|)\"]\n",
    "        coeff_row_2 <- summary(model)$coefficients[2,\"Pr(>|t|)\"]\n",
    "\n",
    "        row <- c(row, i)\n",
    "        titles <- c(titles, title)\n",
    "        correlations <- c(correlations, corr)\n",
    "        f_statistics <- c(f_statistics, f_stat)\n",
    "        multiple_r_squareds <- c(multiple_r_squareds, r_squared)\n",
    "        p_values <- c(p_values, p_val)\n",
    "        coeff_interps <- c(coeff_interps, coeff_interp)\n",
    "        coeff_row_2s <- c(coeff_row_2s, coeff_row_2)\n",
    "    }\n",
    "\n",
    "    df <- data.frame (\n",
    "        row,\n",
    "        titles,\n",
    "        correlations,\n",
    "        f_statistics,\n",
    "        multiple_r_squareds,\n",
    "        p_values,\n",
    "        coeff_interps,\n",
    "        coeff_row_2s\n",
    "    )\n",
    "    write.table(\n",
    "        df,\n",
    "        paste(out_dir, file, sep=\"\"),\n",
    "        sep=\",\", row.names=FALSE, col.names=FALSE\n",
    "    )\n",
    "}\n"
   ],
   "metadata": {
    "collapsed": false,
    "ExecuteTime": {
     "start_time": "2023-04-04T01:18:15.152015Z",
     "end_time": "2023-04-04T01:18:15.220382Z"
    }
   }
  }
 ],
 "metadata": {
  "colab": {
   "private_outputs": true,
   "provenance": []
  },
  "gpuClass": "standard",
  "kernelspec": {
   "display_name": "R",
   "language": "R",
   "name": "ir"
  },
  "language_info": {
   "codemirror_mode": "r",
   "file_extension": ".r",
   "mimetype": "text/x-r-source",
   "name": "R",
   "pygments_lexer": "r",
   "version": "4.2.3"
  }
 },
 "nbformat": 4,
 "nbformat_minor": 4
}
