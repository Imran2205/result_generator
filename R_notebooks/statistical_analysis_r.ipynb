{
 "cells": [
  {
   "cell_type": "code",
   "execution_count": null,
   "metadata": {
    "id": "-j-Dzj5bRbZk"
   },
   "outputs": [],
   "source": [
    "# install.packages(\"googledrive\") #only need to install occasionally \n",
    "# install.packages(\"httpuv\") \n",
    "# library(\"googledrive\") \n",
    "# library(\"httpuv\")"
   ]
  },
  {
   "cell_type": "code",
   "execution_count": null,
   "metadata": {
    "id": "LoDB3cwnSRtk"
   },
   "outputs": [],
   "source": [
    "# if (file.exists(\"/usr/local/lib/python3.7/dist-packages/google/colab/_ipython.py\")) { #may update python version  \n",
    "#                                        #occasionally\n",
    "#   install.packages(\"R.utils\")\n",
    "#   library(\"R.utils\")\n",
    "#   library(\"httr\")\n",
    "#   my_check <- function() {return(TRUE)}\n",
    "#   reassignInPackage(\"is_interactive\", pkgName = \"httr\", my_check) \n",
    "#   options(rlang_interactive=TRUE)\n",
    "# }"
   ]
  },
  {
   "cell_type": "code",
   "execution_count": null,
   "metadata": {
    "id": "VJGSWbyNRm1A"
   },
   "outputs": [],
   "source": [
    "# drive_auth(use_oob = TRUE, cache = FALSE)"
   ]
  },
  {
   "cell_type": "code",
   "execution_count": 1,
   "metadata": {
    "id": "BWdkCJKUXkvA",
    "ExecuteTime": {
     "start_time": "2023-04-05T04:30:10.355578Z",
     "end_time": "2023-04-05T04:30:10.412844Z"
    }
   },
   "outputs": [
    {
     "data": {
      "text/html": "<table class=\"dataframe\">\n<caption>A data.frame: 6 × 14</caption>\n<thead>\n\t<tr><th></th><th scope=col>X</th><th scope=col>frame.pair</th><th scope=col>Similarity..Human.</th><th scope=col>gt.cosine.similarity</th><th scope=col>Similarity..VQA.based.</th><th scope=col>GPV.VQA.similarity..old.</th><th scope=col>GPV.VQA.cosine.similarity</th><th scope=col>Similarity..Lavis.VQA.based.</th><th scope=col>Lavis.VQA.cosine.similarity</th><th scope=col>resnet.50.feature.similarity</th><th scope=col>Similarity..Feature.Based.</th><th scope=col>alexnet.feature.similarity</th><th scope=col>vgg16.bn.feature.similarity</th><th scope=col>Similarity..Pixel.level.</th></tr>\n\t<tr><th></th><th scope=col>&lt;int&gt;</th><th scope=col>&lt;chr&gt;</th><th scope=col>&lt;dbl&gt;</th><th scope=col>&lt;dbl&gt;</th><th scope=col>&lt;dbl&gt;</th><th scope=col>&lt;dbl&gt;</th><th scope=col>&lt;dbl&gt;</th><th scope=col>&lt;dbl&gt;</th><th scope=col>&lt;dbl&gt;</th><th scope=col>&lt;dbl&gt;</th><th scope=col>&lt;dbl&gt;</th><th scope=col>&lt;dbl&gt;</th><th scope=col>&lt;dbl&gt;</th><th scope=col>&lt;dbl&gt;</th></tr>\n</thead>\n<tbody>\n\t<tr><th scope=row>1</th><td>0</td><td>frame-(0, 1)</td><td>1.0000000</td><td>0.9999999</td><td>0.7974684</td><td>0.7701149</td><td>0.8063241</td><td>0.9240506</td><td>0.9153348</td><td>0.8816981</td><td>0.8824755</td><td>0.8678253</td><td>0.9544957</td><td>0.8894526</td></tr>\n\t<tr><th scope=row>2</th><td>1</td><td>frame-(1, 2)</td><td>0.9873418</td><td>0.9660918</td><td>0.8227848</td><td>0.7586207</td><td>0.8480265</td><td>0.8101266</td><td>0.7951466</td><td>0.8393357</td><td>0.7942196</td><td>0.7512298</td><td>0.8537085</td><td>0.8286647</td></tr>\n\t<tr><th scope=row>3</th><td>2</td><td>frame-(2, 3)</td><td>0.9873418</td><td>0.9660918</td><td>0.8227848</td><td>0.7586207</td><td>0.8428706</td><td>0.8481013</td><td>0.8432740</td><td>0.8479913</td><td>0.8376801</td><td>0.7661752</td><td>0.8915818</td><td>0.8200799</td></tr>\n\t<tr><th scope=row>4</th><td>3</td><td>frame-(3, 4)</td><td>0.9873418</td><td>0.9660918</td><td>0.7848101</td><td>0.7931034</td><td>0.8288498</td><td>0.8860759</td><td>0.8733260</td><td>0.8161866</td><td>0.8072243</td><td>0.6516596</td><td>0.8433740</td><td>0.8329729</td></tr>\n\t<tr><th scope=row>5</th><td>4</td><td>frame-(4, 5)</td><td>0.8987342</td><td>0.6943650</td><td>0.6582278</td><td>0.6321839</td><td>0.7387350</td><td>0.7088608</td><td>0.6761234</td><td>0.4817061</td><td>0.4385835</td><td>0.3721511</td><td>0.5959071</td><td>0.2964119</td></tr>\n\t<tr><th scope=row>6</th><td>5</td><td>frame-(5, 6)</td><td>1.0000000</td><td>0.9999998</td><td>0.8734177</td><td>0.8850575</td><td>0.8924216</td><td>0.8987342</td><td>0.8959786</td><td>0.9001378</td><td>0.9028105</td><td>0.9118954</td><td>0.8768433</td><td>0.9164845</td></tr>\n</tbody>\n</table>\n",
      "text/markdown": "\nA data.frame: 6 × 14\n\n| <!--/--> | X &lt;int&gt; | frame.pair &lt;chr&gt; | Similarity..Human. &lt;dbl&gt; | gt.cosine.similarity &lt;dbl&gt; | Similarity..VQA.based. &lt;dbl&gt; | GPV.VQA.similarity..old. &lt;dbl&gt; | GPV.VQA.cosine.similarity &lt;dbl&gt; | Similarity..Lavis.VQA.based. &lt;dbl&gt; | Lavis.VQA.cosine.similarity &lt;dbl&gt; | resnet.50.feature.similarity &lt;dbl&gt; | Similarity..Feature.Based. &lt;dbl&gt; | alexnet.feature.similarity &lt;dbl&gt; | vgg16.bn.feature.similarity &lt;dbl&gt; | Similarity..Pixel.level. &lt;dbl&gt; |\n|---|---|---|---|---|---|---|---|---|---|---|---|---|---|---|\n| 1 | 0 | frame-(0, 1) | 1.0000000 | 0.9999999 | 0.7974684 | 0.7701149 | 0.8063241 | 0.9240506 | 0.9153348 | 0.8816981 | 0.8824755 | 0.8678253 | 0.9544957 | 0.8894526 |\n| 2 | 1 | frame-(1, 2) | 0.9873418 | 0.9660918 | 0.8227848 | 0.7586207 | 0.8480265 | 0.8101266 | 0.7951466 | 0.8393357 | 0.7942196 | 0.7512298 | 0.8537085 | 0.8286647 |\n| 3 | 2 | frame-(2, 3) | 0.9873418 | 0.9660918 | 0.8227848 | 0.7586207 | 0.8428706 | 0.8481013 | 0.8432740 | 0.8479913 | 0.8376801 | 0.7661752 | 0.8915818 | 0.8200799 |\n| 4 | 3 | frame-(3, 4) | 0.9873418 | 0.9660918 | 0.7848101 | 0.7931034 | 0.8288498 | 0.8860759 | 0.8733260 | 0.8161866 | 0.8072243 | 0.6516596 | 0.8433740 | 0.8329729 |\n| 5 | 4 | frame-(4, 5) | 0.8987342 | 0.6943650 | 0.6582278 | 0.6321839 | 0.7387350 | 0.7088608 | 0.6761234 | 0.4817061 | 0.4385835 | 0.3721511 | 0.5959071 | 0.2964119 |\n| 6 | 5 | frame-(5, 6) | 1.0000000 | 0.9999998 | 0.8734177 | 0.8850575 | 0.8924216 | 0.8987342 | 0.8959786 | 0.9001378 | 0.9028105 | 0.9118954 | 0.8768433 | 0.9164845 |\n\n",
      "text/latex": "A data.frame: 6 × 14\n\\begin{tabular}{r|llllllllllllll}\n  & X & frame.pair & Similarity..Human. & gt.cosine.similarity & Similarity..VQA.based. & GPV.VQA.similarity..old. & GPV.VQA.cosine.similarity & Similarity..Lavis.VQA.based. & Lavis.VQA.cosine.similarity & resnet.50.feature.similarity & Similarity..Feature.Based. & alexnet.feature.similarity & vgg16.bn.feature.similarity & Similarity..Pixel.level.\\\\\n  & <int> & <chr> & <dbl> & <dbl> & <dbl> & <dbl> & <dbl> & <dbl> & <dbl> & <dbl> & <dbl> & <dbl> & <dbl> & <dbl>\\\\\n\\hline\n\t1 & 0 & frame-(0, 1) & 1.0000000 & 0.9999999 & 0.7974684 & 0.7701149 & 0.8063241 & 0.9240506 & 0.9153348 & 0.8816981 & 0.8824755 & 0.8678253 & 0.9544957 & 0.8894526\\\\\n\t2 & 1 & frame-(1, 2) & 0.9873418 & 0.9660918 & 0.8227848 & 0.7586207 & 0.8480265 & 0.8101266 & 0.7951466 & 0.8393357 & 0.7942196 & 0.7512298 & 0.8537085 & 0.8286647\\\\\n\t3 & 2 & frame-(2, 3) & 0.9873418 & 0.9660918 & 0.8227848 & 0.7586207 & 0.8428706 & 0.8481013 & 0.8432740 & 0.8479913 & 0.8376801 & 0.7661752 & 0.8915818 & 0.8200799\\\\\n\t4 & 3 & frame-(3, 4) & 0.9873418 & 0.9660918 & 0.7848101 & 0.7931034 & 0.8288498 & 0.8860759 & 0.8733260 & 0.8161866 & 0.8072243 & 0.6516596 & 0.8433740 & 0.8329729\\\\\n\t5 & 4 & frame-(4, 5) & 0.8987342 & 0.6943650 & 0.6582278 & 0.6321839 & 0.7387350 & 0.7088608 & 0.6761234 & 0.4817061 & 0.4385835 & 0.3721511 & 0.5959071 & 0.2964119\\\\\n\t6 & 5 & frame-(5, 6) & 1.0000000 & 0.9999998 & 0.8734177 & 0.8850575 & 0.8924216 & 0.8987342 & 0.8959786 & 0.9001378 & 0.9028105 & 0.9118954 & 0.8768433 & 0.9164845\\\\\n\\end{tabular}\n",
      "text/plain": "  X frame.pair   Similarity..Human. gt.cosine.similarity Similarity..VQA.based.\n1 0 frame-(0, 1) 1.0000000          0.9999999            0.7974684             \n2 1 frame-(1, 2) 0.9873418          0.9660918            0.8227848             \n3 2 frame-(2, 3) 0.9873418          0.9660918            0.8227848             \n4 3 frame-(3, 4) 0.9873418          0.9660918            0.7848101             \n5 4 frame-(4, 5) 0.8987342          0.6943650            0.6582278             \n6 5 frame-(5, 6) 1.0000000          0.9999998            0.8734177             \n  GPV.VQA.similarity..old. GPV.VQA.cosine.similarity\n1 0.7701149                0.8063241                \n2 0.7586207                0.8480265                \n3 0.7586207                0.8428706                \n4 0.7931034                0.8288498                \n5 0.6321839                0.7387350                \n6 0.8850575                0.8924216                \n  Similarity..Lavis.VQA.based. Lavis.VQA.cosine.similarity\n1 0.9240506                    0.9153348                  \n2 0.8101266                    0.7951466                  \n3 0.8481013                    0.8432740                  \n4 0.8860759                    0.8733260                  \n5 0.7088608                    0.6761234                  \n6 0.8987342                    0.8959786                  \n  resnet.50.feature.similarity Similarity..Feature.Based.\n1 0.8816981                    0.8824755                 \n2 0.8393357                    0.7942196                 \n3 0.8479913                    0.8376801                 \n4 0.8161866                    0.8072243                 \n5 0.4817061                    0.4385835                 \n6 0.9001378                    0.9028105                 \n  alexnet.feature.similarity vgg16.bn.feature.similarity\n1 0.8678253                  0.9544957                  \n2 0.7512298                  0.8537085                  \n3 0.7661752                  0.8915818                  \n4 0.6516596                  0.8433740                  \n5 0.3721511                  0.5959071                  \n6 0.9118954                  0.8768433                  \n  Similarity..Pixel.level.\n1 0.8894526               \n2 0.8286647               \n3 0.8200799               \n4 0.8329729               \n5 0.2964119               \n6 0.9164845               "
     },
     "metadata": {},
     "output_type": "display_data"
    }
   ],
   "source": [
    "data <- read.csv(\"/Users/imrankabir/Desktop/research/vqa_accessibility/result_generator/data/result_april_5/output/csv/video-1-segment-4.csv\")\n",
    "\n",
    "head(data)"
   ]
  },
  {
   "cell_type": "code",
   "execution_count": 3,
   "metadata": {
    "id": "vIi9rdWEYJR8",
    "ExecuteTime": {
     "start_time": "2023-04-03T18:45:57.629839Z",
     "end_time": "2023-04-03T18:45:58.269717Z"
    }
   },
   "outputs": [
    {
     "name": "stdout",
     "output_type": "stream",
     "text": [
      "\n",
      "Call:\n",
      "lm(formula = gt.cosine.similarity ~ VQA.cosine.similarity, data = input_data)\n",
      "\n",
      "Residuals:\n",
      "     Min       1Q   Median       3Q      Max \n",
      "-0.34497 -0.00576  0.03356  0.07171  0.10438 \n",
      "\n",
      "Coefficients:\n",
      "                      Estimate Std. Error t value Pr(>|t|)\n",
      "(Intercept)             0.3792     0.3378   1.123    0.273\n",
      "VQA.cosine.similarity   0.6536     0.3963   1.649    0.113\n",
      "\n",
      "Residual standard error: 0.1192 on 23 degrees of freedom\n",
      "Multiple R-squared:  0.1058,\tAdjusted R-squared:  0.06687 \n",
      "F-statistic:  2.72 on 1 and 23 DF,  p-value: 0.1127\n",
      "\n"
     ]
    }
   ],
   "source": [
    "input_data <- data[,c(\"gt.cosine.similarity\",\"VQA.cosine.similarity\")]\n",
    "\n",
    "# now, make a linear model (lm) \n",
    "model = lm(formula = gt.cosine.similarity ~ VQA.cosine.similarity, data = input_data)\n",
    "\n",
    "print(summary(model))"
   ]
  },
  {
   "cell_type": "code",
   "execution_count": 61,
   "metadata": {
    "id": "pQSIu_joZddf",
    "ExecuteTime": {
     "start_time": "2023-04-03T21:14:10.881982Z",
     "end_time": "2023-04-03T21:14:10.909773Z"
    }
   },
   "outputs": [
    {
     "data": {
      "text/plain": "\nCall:\nlm(formula = gt.cosine.similarity ~ resnet.152.feature.similarity, \n    data = input_data)\n\nResiduals:\n     Min       1Q   Median       3Q      Max \n-0.09506 -0.04232  0.01089  0.03268  0.06328 \n\nCoefficients:\n                              Estimate Std. Error t value Pr(>|t|)    \n(Intercept)                    0.39366    0.04506   8.736 9.18e-09 ***\nresnet.152.feature.similarity  0.67475    0.05500  12.268 1.42e-11 ***\n---\nSignif. codes:  0 ‘***’ 0.001 ‘**’ 0.01 ‘*’ 0.05 ‘.’ 0.1 ‘ ’ 1\n\nResidual standard error: 0.0459 on 23 degrees of freedom\nMultiple R-squared:  0.8674,\tAdjusted R-squared:  0.8617 \nF-statistic: 150.5 on 1 and 23 DF,  p-value: 1.421e-11\n"
     },
     "metadata": {},
     "output_type": "display_data"
    }
   ],
   "source": [
    "# input_data <- data[,c(\"gt.cosine.similarity\",\"resnet.152.feature.similarity\")]\n",
    "\n",
    "# now, make a linear model (lm) \n",
    "# model = lm(formula = gt.cosine.similarity ~ resnet.152.feature.similarity, data = input_data)\n",
    "\n",
    "model <- lm(formula = data$gt.cosine.similarity~data$resnet.152.feature.similarity)\n",
    "\n",
    "f_stat_val <- unname(summary(model)$fstatistic[1])\n",
    "numdf <- unname(summary(model)$fstatistic[2])\n",
    "dendf <- unname(summary(model)$fstatistic[3])\n",
    "f_stat <- sprintf(\"%s on %s DoF\", f_stat_val, dendf)\n",
    "r_squared <- summary(model)$r.squared\n",
    "p_val <- anova(model)$'Pr(>F)'[1]\n",
    "coeff_interp <- summary(model)$coefficients[1,\"Pr(>|t|)\"]\n",
    "coeff_row_2 <- summary(model)$coefficients[2,\"Pr(>|t|)\"]\n",
    "corr <- cor(data$gt.cosine.similarity, data$resnet.152.feature.similarity)\n"
   ]
  },
  {
   "cell_type": "code",
   "execution_count": 63,
   "outputs": [
    {
     "data": {
      "text/plain": "\nCall:\nlm(formula = data$gt.cosine.similarity ~ data$resnet.152.feature.similarity)\n\nResiduals:\n     Min       1Q   Median       3Q      Max \n-0.09506 -0.04232  0.01089  0.03268  0.06328 \n\nCoefficients:\n                                   Estimate Std. Error t value Pr(>|t|)    \n(Intercept)                         0.39366    0.04506   8.736 9.18e-09 ***\ndata$resnet.152.feature.similarity  0.67475    0.05500  12.268 1.42e-11 ***\n---\nSignif. codes:  0 ‘***’ 0.001 ‘**’ 0.01 ‘*’ 0.05 ‘.’ 0.1 ‘ ’ 1\n\nResidual standard error: 0.0459 on 23 degrees of freedom\nMultiple R-squared:  0.8674,\tAdjusted R-squared:  0.8617 \nF-statistic: 150.5 on 1 and 23 DF,  p-value: 1.421e-11\n"
     },
     "metadata": {},
     "output_type": "display_data"
    }
   ],
   "source": [
    "# now, make a linear model (lm)\n",
    "# model = lm(formula = gt.cosine.similarity ~ resnet.152.feature.similarity, data = input_data)\n",
    "\n",
    "model <- lm(formula = data$gt.cosine.similarity~data$resnet.152.feature.similarity)\n",
    "summary(model)\n",
    "\n",
    "f_stat_val <- unname(summary(model)$fstatistic[1])\n",
    "numdf <- unname(summary(model)$fstatistic[2])\n",
    "dendf <- unname(summary(model)$fstatistic[3])\n",
    "f_stat <- sprintf(\"%s on %s DoF\", f_stat_val, dendf)\n",
    "r_squared <- summary(model)$r.squared\n",
    "p_val <- anova(model)$'Pr(>F)'[1]\n",
    "coeff_interp <- summary(model)$coefficients[1,\"Pr(>|t|)\"]\n",
    "coeff_row_2 <- summary(model)$coefficients[2,\"Pr(>|t|)\"]\n",
    "corr <- cor(data$gt.cosine.similarity, data$resnet.152.feature.similarity)"
   ],
   "metadata": {
    "collapsed": false,
    "ExecuteTime": {
     "start_time": "2023-04-03T21:22:20.848269Z",
     "end_time": "2023-04-03T21:22:20.879612Z"
    }
   }
  },
  {
   "cell_type": "code",
   "execution_count": null,
   "metadata": {
    "id": "8djC1OZvajPw"
   },
   "outputs": [],
   "source": [
    "gpv_vs_gt <- cor(data$gpv.feature, data$gt.feature)\n",
    "gpv_vs_gt"
   ]
  },
  {
   "cell_type": "code",
   "execution_count": null,
   "metadata": {
    "id": "bjOL7SwrasYR"
   },
   "outputs": [],
   "source": [
    "cor(data$resnet.152, data$gt.feature)"
   ]
  },
  {
   "cell_type": "code",
   "execution_count": null,
   "metadata": {
    "id": "LtAHvbTZaw94"
   },
   "outputs": [],
   "source": [
    "cor(data$resnet.152, data$gpv.feature)"
   ]
  },
  {
   "cell_type": "code",
   "execution_count": null,
   "metadata": {
    "id": "VqR_MfH6a0MW"
   },
   "outputs": [],
   "source": [
    "# Calculate Fisher's z\n",
    "r <- gpv_vs_gt\n",
    "z <- 0.5*log((1+r)/(1-r))\n",
    "z"
   ]
  },
  {
   "cell_type": "code",
   "execution_count": null,
   "metadata": {
    "id": "VlPGOpHXlGkG"
   },
   "outputs": [],
   "source": [
    "dir_files <- \"/content/data/\"\n",
    "out_dir <- \"/content/out_data/\"\n",
    "\n",
    "for (file in list.files(dir_files)){\n",
    "    data <- read.csv(paste(dir_files, file, sep=\"\"))\n",
    "\n",
    "    gt <- data$gt.feature\n",
    "    y_gpv <- data$gpv.feature.cos\n",
    "    y_resnet152 <- data$resnet.152\n",
    "\n",
    "    pairs <- list(\n",
    "        list('gpv vs gt', y_gpv, gt),\n",
    "        list('resnet152 vs gt', y_resnet152, gt),\n",
    "        list('gpv vs resnet152', y_gpv, y_resnet152)\n",
    "    )\n",
    "\n",
    "    row <- c('')\n",
    "    titles <- c(\"Title\")\n",
    "    correlations <- c(\"Correlation\")\n",
    "    mins <- c(\"Min\")\n",
    "    q1s <- c(\"1Q\")\n",
    "    medians <- c(\"Median\")\n",
    "    q3s <- c(\"3Q\")\n",
    "    maxs <- c(\"Max\")\n",
    "    residual_standard_errors <- c(\"Residual Standard Error\")\n",
    "    multiple_r_squareds <- c(\"Multiple R-squareds\")\n",
    "    adjusted_r_squareds <- c(\"Adjusted R-squareds\")\n",
    "    f_statistics <- c(\"F Statistics\")\n",
    "\n",
    "    for (i in 1:length(pairs)){\n",
    "        pair = pairs[[i]]\n",
    "        title <- pair[[1]]\n",
    "        y <- pair[[2]]\n",
    "        x <- pair[[3]]\n",
    "\n",
    "        model <- lm(y~x)\n",
    "\n",
    "        correlation <- cor(y, x)\n",
    "\n",
    "        residual <- summary(model$residuals)\n",
    "        min <- residual[[1]]\n",
    "        q1 <- residual[[2]]\n",
    "        median <- residual[[3]]\n",
    "        q3 <- residual[[4]]\n",
    "        max <- residual[[5]]\n",
    "\n",
    "        k=length(model$coefficients)-1 \n",
    "        SSE=sum(model$residuals**2)\n",
    "        n=length(model$residuals)\n",
    "        residual_standard_error <- sqrt(SSE/(n-(1+k)))\n",
    "\n",
    "        SSyy=sum((y-mean(y))**2)\n",
    "        SSE=sum(model$residuals**2)\n",
    "        multiple_r_squared <- (SSyy-SSE)/SSyy\n",
    "\n",
    "        n=length(y)\n",
    "        k=length(model$coefficients)-1 \n",
    "        SSE=sum(model$residuals**2)\n",
    "        SSyy=sum((y-mean(y))**2)\n",
    "        adjusted_r_squared <- 1-(SSE/SSyy)*(n-1)/(n-(k+1))\n",
    "\n",
    "        f_statistic <- ((SSyy-SSE)/k) / (SSE/(n-(k+1)))\n",
    "\n",
    "        row <- c(row, i)\n",
    "        titles <- c(titles, title)\n",
    "        correlations <- c(correlations, correlation)\n",
    "        mins <- c(mins, min)\n",
    "        q1s <- c(q1s, q1)\n",
    "        medians <- c(medians, median)\n",
    "        q3s <- c(q3s, q3)\n",
    "        maxs <- c(maxs, max)\n",
    "        residual_standard_errors <- c(residual_standard_errors, residual_standard_error)\n",
    "        multiple_r_squareds <- c(multiple_r_squareds, multiple_r_squared)\n",
    "        adjusted_r_squareds <- c(adjusted_r_squareds, adjusted_r_squared)\n",
    "        f_statistics <- c(f_statistics, f_statistic)\n",
    "    }\n",
    "\n",
    "    df <- data.frame (\n",
    "        row,\n",
    "        titles,\n",
    "        correlations,\n",
    "        mins,\n",
    "        q1s,\n",
    "        medians,\n",
    "        q3s,\n",
    "        maxs,\n",
    "        residual_standard_errors,\n",
    "        multiple_r_squareds,\n",
    "        adjusted_r_squareds,\n",
    "        f_statistics\n",
    "    )\n",
    "    write.table(\n",
    "        df, \n",
    "        paste(out_dir, file, sep=\"\"),\n",
    "        sep=\",\", row.names=FALSE, col.names=FALSE\n",
    "    )\n",
    "}\n"
   ]
  },
  {
   "cell_type": "code",
   "execution_count": null,
   "metadata": {
    "id": "eBPXVS5K0t-A"
   },
   "outputs": [],
   "source": [
    "zip(zipfile = 'result_stat.zip', files = '/content/out_data')"
   ]
  },
  {
   "cell_type": "code",
   "execution_count": null,
   "metadata": {
    "id": "WNuKaX9me96w"
   },
   "outputs": [],
   "source": [
    "print(summary(lm_model_gpv_gt))\n",
    "print(cor(y_gpv, gt))"
   ]
  },
  {
   "cell_type": "code",
   "execution_count": null,
   "metadata": {
    "id": "taq5r1fCfDnI"
   },
   "outputs": [],
   "source": [
    "print(summary(lm_model_resnet_gt))\n",
    "print(cor(y_resnet152, gt))"
   ]
  },
  {
   "cell_type": "code",
   "execution_count": null,
   "metadata": {
    "id": "7ZVkqbg8fDtO"
   },
   "outputs": [],
   "source": [
    "print(summary(lm_model_gpv_resnet))\n",
    "print(cor(y_gpv, y_resnet152))"
   ]
  },
  {
   "cell_type": "code",
   "execution_count": null,
   "metadata": {
    "id": "yLJXBKc2eDFT"
   },
   "outputs": [],
   "source": [
    "t.test(y_gpv, gt, paired = FALSE, var.equal = FALSE, conf.level=0.95)"
   ]
  }
 ],
 "metadata": {
  "colab": {
   "private_outputs": true,
   "provenance": []
  },
  "gpuClass": "standard",
  "kernelspec": {
   "display_name": "R",
   "language": "R",
   "name": "ir"
  },
  "language_info": {
   "codemirror_mode": "r",
   "file_extension": ".r",
   "mimetype": "text/x-r-source",
   "name": "R",
   "pygments_lexer": "r",
   "version": "4.2.3"
  }
 },
 "nbformat": 4,
 "nbformat_minor": 4
}
