{
  "nbformat": 4,
  "nbformat_minor": 0,
  "metadata": {
    "colab": {
      "private_outputs": true,
      "provenance": []
    },
    "kernelspec": {
      "name": "ir",
      "display_name": "R"
    },
    "language_info": {
      "name": "R"
    },
    "gpuClass": "standard"
  },
  "cells": [
    {
      "cell_type": "code",
      "source": [
        "install.packages(\"googledrive\") #only need to install occasionally \n",
        "install.packages(\"httpuv\") \n",
        "library(\"googledrive\") \n",
        "library(\"httpuv\")"
      ],
      "metadata": {
        "id": "-j-Dzj5bRbZk"
      },
      "execution_count": null,
      "outputs": []
    },
    {
      "cell_type": "code",
      "source": [
        "if (file.exists(\"/usr/local/lib/python3.7/dist-packages/google/colab/_ipython.py\")) { #may update python version  \n",
        "                                       #occasionally\n",
        "  install.packages(\"R.utils\")\n",
        "  library(\"R.utils\")\n",
        "  library(\"httr\")\n",
        "  my_check <- function() {return(TRUE)}\n",
        "  reassignInPackage(\"is_interactive\", pkgName = \"httr\", my_check) \n",
        "  options(rlang_interactive=TRUE)\n",
        "}"
      ],
      "metadata": {
        "id": "LoDB3cwnSRtk"
      },
      "execution_count": null,
      "outputs": []
    },
    {
      "cell_type": "code",
      "source": [
        "# drive_auth(use_oob = TRUE, cache = FALSE)"
      ],
      "metadata": {
        "id": "VJGSWbyNRm1A"
      },
      "execution_count": null,
      "outputs": []
    },
    {
      "cell_type": "code",
      "source": [
        "data <- read.csv(\"/content/data/video-1-segment-4.csv\")\n",
        "\n",
        "head(data)"
      ],
      "metadata": {
        "id": "BWdkCJKUXkvA"
      },
      "execution_count": null,
      "outputs": []
    },
    {
      "cell_type": "code",
      "source": [
        "input_data <- data[,c(\"gt.feature\",\"gpv.feature\")]\n",
        "\n",
        "# now, make a linear model (lm) \n",
        "model = lm(formula = gt.feature ~ gpv.feature, data = input_data)\n",
        "\n",
        "print(summary(model))"
      ],
      "metadata": {
        "id": "vIi9rdWEYJR8"
      },
      "execution_count": null,
      "outputs": []
    },
    {
      "cell_type": "code",
      "source": [
        "input_data <- data[,c(\"gt.feature\",\"resnet.152\")]\n",
        "\n",
        "# now, make a linear model (lm) \n",
        "model = lm(formula = gt.feature ~ resnet.152, data = input_data)\n",
        "\n",
        "print(summary(model))"
      ],
      "metadata": {
        "id": "pQSIu_joZddf"
      },
      "execution_count": null,
      "outputs": []
    },
    {
      "cell_type": "code",
      "source": [
        "gpv_vs_gt <- cor(data$gpv.feature, data$gt.feature)\n",
        "gpv_vs_gt"
      ],
      "metadata": {
        "id": "8djC1OZvajPw"
      },
      "execution_count": null,
      "outputs": []
    },
    {
      "cell_type": "code",
      "source": [
        "cor(data$resnet.152, data$gt.feature)"
      ],
      "metadata": {
        "id": "bjOL7SwrasYR"
      },
      "execution_count": null,
      "outputs": []
    },
    {
      "cell_type": "code",
      "source": [
        "cor(data$resnet.152, data$gpv.feature)"
      ],
      "metadata": {
        "id": "LtAHvbTZaw94"
      },
      "execution_count": null,
      "outputs": []
    },
    {
      "cell_type": "code",
      "source": [
        "# Calculate Fisher's z\n",
        "r <- gpv_vs_gt\n",
        "z <- 0.5*log((1+r)/(1-r))\n",
        "z"
      ],
      "metadata": {
        "id": "VqR_MfH6a0MW"
      },
      "execution_count": null,
      "outputs": []
    },
    {
      "cell_type": "code",
      "source": [
        "dir_files <- \"/content/data/\"\n",
        "out_dir <- \"/content/out_data/\"\n",
        "\n",
        "for (file in list.files(dir_files)){\n",
        "    data <- read.csv(paste(dir_files, file, sep=\"\"))\n",
        "\n",
        "    gt <- data$gt.feature\n",
        "    y_gpv <- data$gpv.feature.cos\n",
        "    y_resnet152 <- data$resnet.152\n",
        "\n",
        "    pairs <- list(\n",
        "        list('gpv vs gt', y_gpv, gt),\n",
        "        list('resnet152 vs gt', y_resnet152, gt),\n",
        "        list('gpv vs resnet152', y_gpv, y_resnet152)\n",
        "    )\n",
        "\n",
        "    row <- c('')\n",
        "    titles <- c(\"Title\")\n",
        "    correlations <- c(\"Correlation\")\n",
        "    mins <- c(\"Min\")\n",
        "    q1s <- c(\"1Q\")\n",
        "    medians <- c(\"Median\")\n",
        "    q3s <- c(\"3Q\")\n",
        "    maxs <- c(\"Max\")\n",
        "    residual_standard_errors <- c(\"Residual Standard Error\")\n",
        "    multiple_r_squareds <- c(\"Multiple R-squareds\")\n",
        "    adjusted_r_squareds <- c(\"Adjusted R-squareds\")\n",
        "    f_statistics <- c(\"F Statistics\")\n",
        "\n",
        "    for (i in 1:length(pairs)){\n",
        "        pair = pairs[[i]]\n",
        "        title <- pair[[1]]\n",
        "        y <- pair[[2]]\n",
        "        x <- pair[[3]]\n",
        "\n",
        "        model <- lm(y~x)\n",
        "\n",
        "        correlation <- cor(y, x)\n",
        "\n",
        "        residual <- summary(model$residuals)\n",
        "        min <- residual[[1]]\n",
        "        q1 <- residual[[2]]\n",
        "        median <- residual[[3]]\n",
        "        q3 <- residual[[4]]\n",
        "        max <- residual[[5]]\n",
        "\n",
        "        k=length(model$coefficients)-1 \n",
        "        SSE=sum(model$residuals**2)\n",
        "        n=length(model$residuals)\n",
        "        residual_standard_error <- sqrt(SSE/(n-(1+k)))\n",
        "\n",
        "        SSyy=sum((y-mean(y))**2)\n",
        "        SSE=sum(model$residuals**2)\n",
        "        multiple_r_squared <- (SSyy-SSE)/SSyy\n",
        "\n",
        "        n=length(y)\n",
        "        k=length(model$coefficients)-1 \n",
        "        SSE=sum(model$residuals**2)\n",
        "        SSyy=sum((y-mean(y))**2)\n",
        "        adjusted_r_squared <- 1-(SSE/SSyy)*(n-1)/(n-(k+1))\n",
        "\n",
        "        f_statistic <- ((SSyy-SSE)/k) / (SSE/(n-(k+1)))\n",
        "\n",
        "        row <- c(row, i)\n",
        "        titles <- c(titles, title)\n",
        "        correlations <- c(correlations, correlation)\n",
        "        mins <- c(mins, min)\n",
        "        q1s <- c(q1s, q1)\n",
        "        medians <- c(medians, median)\n",
        "        q3s <- c(q3s, q3)\n",
        "        maxs <- c(maxs, max)\n",
        "        residual_standard_errors <- c(residual_standard_errors, residual_standard_error)\n",
        "        multiple_r_squareds <- c(multiple_r_squareds, multiple_r_squared)\n",
        "        adjusted_r_squareds <- c(adjusted_r_squareds, adjusted_r_squared)\n",
        "        f_statistics <- c(f_statistics, f_statistic)\n",
        "    }\n",
        "\n",
        "    df <- data.frame (\n",
        "        row,\n",
        "        titles,\n",
        "        correlations,\n",
        "        mins,\n",
        "        q1s,\n",
        "        medians,\n",
        "        q3s,\n",
        "        maxs,\n",
        "        residual_standard_errors,\n",
        "        multiple_r_squareds,\n",
        "        adjusted_r_squareds,\n",
        "        f_statistics\n",
        "    )\n",
        "    write.table(\n",
        "        df, \n",
        "        paste(out_dir, file, sep=\"\"),\n",
        "        sep=\",\", row.names=FALSE, col.names=FALSE\n",
        "    )\n",
        "}\n"
      ],
      "metadata": {
        "id": "VlPGOpHXlGkG"
      },
      "execution_count": null,
      "outputs": []
    },
    {
      "cell_type": "code",
      "source": [
        "zip(zipfile = 'result_stat.zip', files = '/content/out_data')"
      ],
      "metadata": {
        "id": "eBPXVS5K0t-A"
      },
      "execution_count": null,
      "outputs": []
    },
    {
      "cell_type": "code",
      "source": [
        "print(summary(lm_model_gpv_gt))\n",
        "print(cor(y_gpv, gt))"
      ],
      "metadata": {
        "id": "WNuKaX9me96w"
      },
      "execution_count": null,
      "outputs": []
    },
    {
      "cell_type": "code",
      "source": [
        "print(summary(lm_model_resnet_gt))\n",
        "print(cor(y_resnet152, gt))"
      ],
      "metadata": {
        "id": "taq5r1fCfDnI"
      },
      "execution_count": null,
      "outputs": []
    },
    {
      "cell_type": "code",
      "source": [
        "print(summary(lm_model_gpv_resnet))\n",
        "print(cor(y_gpv, y_resnet152))"
      ],
      "metadata": {
        "id": "7ZVkqbg8fDtO"
      },
      "execution_count": null,
      "outputs": []
    },
    {
      "cell_type": "code",
      "source": [
        "t.test(y_gpv, gt, paired = FALSE, var.equal = FALSE, conf.level=0.95)"
      ],
      "metadata": {
        "id": "yLJXBKc2eDFT"
      },
      "execution_count": null,
      "outputs": []
    }
  ]
}