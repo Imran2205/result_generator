{
 "cells": [
  {
   "cell_type": "code",
   "execution_count": 1,
   "metadata": {
    "tags": []
   },
   "outputs": [],
   "source": [
    "import os\n",
    "import glob\n",
    "import pandas as pd\n",
    "import plotly\n",
    "import plotly.express as px\n",
    "from datetime import datetime\n",
    "import time"
   ]
  },
  {
   "cell_type": "code",
   "execution_count": 2,
   "metadata": {},
   "outputs": [],
   "source": [
    "gt_path = \"/Users/imrankabir/Desktop/research/vqa_accessibility/result_generator/data/gt_vqa_csv\"\n",
    "pred_path = \"/Users/imrankabir/Desktop/research/vqa_accessibility/result_generator/data/gpv_vqa\"\n",
    "output_path = \"/Users/imrankabir/Desktop/research/vqa_accessibility/result_generator/results/frequency_of_wrong_prediction\"\n",
    "output_path_occur = \"/Users/imrankabir/Desktop/research/vqa_accessibility/result_generator/results/occurrence_of_classes\""
   ]
  },
  {
   "cell_type": "code",
   "execution_count": 3,
   "metadata": {},
   "outputs": [],
   "source": [
    "gt_csvs = glob.glob(\n",
    "    os.path.join(\n",
    "        gt_path,\n",
    "        '*.csv'\n",
    "    )\n",
    ")"
   ]
  },
  {
   "cell_type": "code",
   "execution_count": 4,
   "metadata": {},
   "outputs": [
    {
     "name": "stdout",
     "output_type": "stream",
     "text": [
      "[Errno 2] No such file or directory: '/Users/imrankabir/Desktop/research/vqa_accessibility/result_generator/data/gpv_vqa/video-19-segment-4.csv'\n",
      "[Errno 2] No such file or directory: '/Users/imrankabir/Desktop/research/vqa_accessibility/result_generator/data/gpv_vqa/video-20-segment-5.csv'\n",
      "[Errno 2] No such file or directory: '/Users/imrankabir/Desktop/research/vqa_accessibility/result_generator/data/gpv_vqa/video-19-segment-2.csv'\n",
      "[Errno 2] No such file or directory: '/Users/imrankabir/Desktop/research/vqa_accessibility/result_generator/data/gpv_vqa/video-20-segment-1.csv'\n",
      "[Errno 2] No such file or directory: '/Users/imrankabir/Desktop/research/vqa_accessibility/result_generator/data/gpv_vqa/video-17-segment-1.csv'\n",
      "[Errno 2] No such file or directory: '/Users/imrankabir/Desktop/research/vqa_accessibility/result_generator/data/gpv_vqa/video-17-segment-3.csv'\n",
      "[Errno 2] No such file or directory: '/Users/imrankabir/Desktop/research/vqa_accessibility/result_generator/data/gpv_vqa/video-18-segment-1.csv'\n",
      "[Errno 2] No such file or directory: '/Users/imrankabir/Desktop/research/vqa_accessibility/result_generator/data/gpv_vqa/video-21-segment-1.csv'\n",
      "[Errno 2] No such file or directory: '/Users/imrankabir/Desktop/research/vqa_accessibility/result_generator/data/gpv_vqa/video-21-segment-5.csv'\n",
      "[Errno 2] No such file or directory: '/Users/imrankabir/Desktop/research/vqa_accessibility/result_generator/data/gpv_vqa/video-18-segment-6.csv'\n"
     ]
    }
   ],
   "source": [
    "hist_data = []\n",
    "wrong_pos_data_dict = {}\n",
    "wrong_neg_data_dict = {}\n",
    "total_data_dict = {}\n",
    "occurrence_class = {}\n",
    "\n",
    "for gt_csv in gt_csvs:\n",
    "    gt_df = pd.read_csv(gt_csv, index_col=0)\n",
    "    gt_df.dropna(how='all', axis=1, inplace=True)\n",
    "    gt_df.dropna(how='all', axis=0, inplace=True)\n",
    "    gt_df.index = gt_df.index.str.lower()\n",
    "    gt_df.columns = gt_df.columns.str.lower()\n",
    "    \n",
    "    try:\n",
    "        pred_df= pd.read_csv(\n",
    "            os.path.join(pred_path, os.path.basename(gt_csv).replace('_', '-')),\n",
    "            index_col=0\n",
    "        )\n",
    "    except Exception as e:\n",
    "        print(e)\n",
    "        continue\n",
    "    \n",
    "    pred_df.dropna(how='all', axis=1, inplace=True)\n",
    "    pred_df.dropna(how='all', axis=0, inplace=True)\n",
    "    pred_df.index = pred_df.index.str.lower()\n",
    "    pred_df.columns = pred_df.columns.str.lower()\n",
    "    \n",
    "    for col in gt_df.columns:\n",
    "        for row in gt_df.index:\n",
    "            gt_val = str(gt_df[col][row]).strip()\n",
    "            if gt_val == '-1':\n",
    "                gt_val = 1\n",
    "            try:\n",
    "                pred_val = str(pred_df[col.replace('_', '-')][row]).strip()\n",
    "            except Exception as e:\n",
    "                # print(e)\n",
    "                continue\n",
    "            if gt_val != '0':\n",
    "                if row not in occurrence_class.keys():\n",
    "                    occurrence_class[row] = 0\n",
    "                occurrence_class[row] += 1\n",
    "            if gt_val != pred_val:\n",
    "                hist_data.append(row)\n",
    "                if gt_val == '0':\n",
    "                    if row not in wrong_pos_data_dict.keys():\n",
    "                        wrong_pos_data_dict[row] = 0\n",
    "                    wrong_pos_data_dict[row] += 1\n",
    "                else:\n",
    "                    if row not in wrong_neg_data_dict.keys():\n",
    "                        wrong_neg_data_dict[row] = 0\n",
    "                    wrong_neg_data_dict[row] += 1\n",
    "                    \n",
    "            if row not in total_data_dict.keys():\n",
    "                total_data_dict[row] = 0\n",
    "            total_data_dict[row] += 1\n",
    "            \n"
   ]
  },
  {
   "cell_type": "code",
   "execution_count": 6,
   "metadata": {},
   "outputs": [],
   "source": [
    "drop_row_list = [\n",
    "    'car',\n",
    "    'chair',\n",
    "    'curb',\n",
    "    'fence',\n",
    "    'fire hydrant',\n",
    "    'fountain',\n",
    "    'gate',\n",
    "    'person with a disability',\n",
    "    'roadside parking',\n",
    "    'sidewalk',\n",
    "    'sidewalk pits',\n",
    "    'trash on roads',\n",
    "    'wet surface',\n",
    "    'wheelchair',\n",
    "    'white cane',\n",
    "]"
   ]
  },
  {
   "cell_type": "code",
   "execution_count": 7,
   "metadata": {},
   "outputs": [],
   "source": [
    "hist_data_dict = {\n",
    "    'Class': [],\n",
    "    'False Positive': [],\n",
    "    'False Negative': [],\n",
    "    'False Prediction': []\n",
    "}\n",
    "\n",
    "final_occurrence_class = {\n",
    "    'Class': [],\n",
    "    'Occurrences': []\n",
    "}\n",
    "\n",
    "for key in occurrence_class.keys():\n",
    "    final_occurrence_class['Class'].append(key.title())\n",
    "    final_occurrence_class['Occurrences'].append(occurrence_class[key])\n",
    "\n",
    "for key in total_data_dict.keys():\n",
    "    if key not in drop_row_list:\n",
    "        continue\n",
    "    if key in wrong_pos_data_dict.keys():\n",
    "        fp_val = wrong_pos_data_dict[key] / total_data_dict[key]\n",
    "    else:\n",
    "        fp_val = 0\n",
    "        \n",
    "    if key in wrong_neg_data_dict.keys():\n",
    "        fn_val = wrong_neg_data_dict[key] / total_data_dict[key]\n",
    "    else:\n",
    "        fn_val = 0\n",
    "        \n",
    "    hist_data_dict['Class'].append(key.title())\n",
    "    hist_data_dict['False Positive'].append(fp_val)\n",
    "    hist_data_dict['False Negative'].append(fn_val)\n",
    "    hist_data_dict['False Prediction'].append(fp_val + fn_val)"
   ]
  },
  {
   "cell_type": "code",
   "execution_count": 8,
   "metadata": {},
   "outputs": [
    {
     "data": {
      "text/html": [
       "<div>\n",
       "<style scoped>\n",
       "    .dataframe tbody tr th:only-of-type {\n",
       "        vertical-align: middle;\n",
       "    }\n",
       "\n",
       "    .dataframe tbody tr th {\n",
       "        vertical-align: top;\n",
       "    }\n",
       "\n",
       "    .dataframe thead th {\n",
       "        text-align: right;\n",
       "    }\n",
       "</style>\n",
       "<table border=\"1\" class=\"dataframe\">\n",
       "  <thead>\n",
       "    <tr style=\"text-align: right;\">\n",
       "      <th></th>\n",
       "      <th>Class</th>\n",
       "      <th>Occurrences</th>\n",
       "    </tr>\n",
       "  </thead>\n",
       "  <tbody>\n",
       "    <tr>\n",
       "      <th>2</th>\n",
       "      <td>Train Platform</td>\n",
       "      <td>1</td>\n",
       "    </tr>\n",
       "    <tr>\n",
       "      <th>7</th>\n",
       "      <td>Elevator</td>\n",
       "      <td>1</td>\n",
       "    </tr>\n",
       "    <tr>\n",
       "      <th>57</th>\n",
       "      <td>Barrier Stump</td>\n",
       "      <td>2</td>\n",
       "    </tr>\n",
       "    <tr>\n",
       "      <th>45</th>\n",
       "      <td>Flush Door</td>\n",
       "      <td>2</td>\n",
       "    </tr>\n",
       "    <tr>\n",
       "      <th>58</th>\n",
       "      <td>Chair</td>\n",
       "      <td>4</td>\n",
       "    </tr>\n",
       "    <tr>\n",
       "      <th>...</th>\n",
       "      <td>...</td>\n",
       "      <td>...</td>\n",
       "    </tr>\n",
       "    <tr>\n",
       "      <th>4</th>\n",
       "      <td>White Cane</td>\n",
       "      <td>276</td>\n",
       "    </tr>\n",
       "    <tr>\n",
       "      <th>18</th>\n",
       "      <td>Road</td>\n",
       "      <td>316</td>\n",
       "    </tr>\n",
       "    <tr>\n",
       "      <th>0</th>\n",
       "      <td>Sidewalk</td>\n",
       "      <td>415</td>\n",
       "    </tr>\n",
       "    <tr>\n",
       "      <th>9</th>\n",
       "      <td>Person With A Disability</td>\n",
       "      <td>453</td>\n",
       "    </tr>\n",
       "    <tr>\n",
       "      <th>8</th>\n",
       "      <td>Person</td>\n",
       "      <td>478</td>\n",
       "    </tr>\n",
       "  </tbody>\n",
       "</table>\n",
       "<p>64 rows × 2 columns</p>\n",
       "</div>"
      ],
      "text/plain": [
       "                       Class  Occurrences\n",
       "2             Train Platform            1\n",
       "7                   Elevator            1\n",
       "57             Barrier Stump            2\n",
       "45                Flush Door            2\n",
       "58                     Chair            4\n",
       "..                       ...          ...\n",
       "4                 White Cane          276\n",
       "18                      Road          316\n",
       "0                   Sidewalk          415\n",
       "9   Person With A Disability          453\n",
       "8                     Person          478\n",
       "\n",
       "[64 rows x 2 columns]"
      ]
     },
     "execution_count": 8,
     "metadata": {},
     "output_type": "execute_result"
    }
   ],
   "source": [
    "occur_df_perc = pd.DataFrame.from_dict(final_occurrence_class)\n",
    "occur_df_perc = occur_df_perc.sort_values(by=['Occurrences'])\n",
    "occur_df_perc"
   ]
  },
  {
   "cell_type": "code",
   "execution_count": 9,
   "metadata": {},
   "outputs": [
    {
     "data": {
      "text/html": [
       "<div>\n",
       "<style scoped>\n",
       "    .dataframe tbody tr th:only-of-type {\n",
       "        vertical-align: middle;\n",
       "    }\n",
       "\n",
       "    .dataframe tbody tr th {\n",
       "        vertical-align: top;\n",
       "    }\n",
       "\n",
       "    .dataframe thead th {\n",
       "        text-align: right;\n",
       "    }\n",
       "</style>\n",
       "<table border=\"1\" class=\"dataframe\">\n",
       "  <thead>\n",
       "    <tr style=\"text-align: right;\">\n",
       "      <th></th>\n",
       "      <th>Class</th>\n",
       "      <th>False Positive</th>\n",
       "      <th>False Negative</th>\n",
       "      <th>False Prediction</th>\n",
       "    </tr>\n",
       "  </thead>\n",
       "  <tbody>\n",
       "    <tr>\n",
       "      <th>0</th>\n",
       "      <td>Car</td>\n",
       "      <td>0.039400</td>\n",
       "      <td>0.078799</td>\n",
       "      <td>0.118199</td>\n",
       "    </tr>\n",
       "    <tr>\n",
       "      <th>1</th>\n",
       "      <td>Chair</td>\n",
       "      <td>0.127580</td>\n",
       "      <td>0.003752</td>\n",
       "      <td>0.131332</td>\n",
       "    </tr>\n",
       "    <tr>\n",
       "      <th>4</th>\n",
       "      <td>Fire Hydrant</td>\n",
       "      <td>0.138837</td>\n",
       "      <td>0.022514</td>\n",
       "      <td>0.161351</td>\n",
       "    </tr>\n",
       "    <tr>\n",
       "      <th>8</th>\n",
       "      <td>Roadside Parking</td>\n",
       "      <td>0.227017</td>\n",
       "      <td>0.024390</td>\n",
       "      <td>0.251407</td>\n",
       "    </tr>\n",
       "    <tr>\n",
       "      <th>9</th>\n",
       "      <td>Sidewalk</td>\n",
       "      <td>0.116323</td>\n",
       "      <td>0.180113</td>\n",
       "      <td>0.296435</td>\n",
       "    </tr>\n",
       "  </tbody>\n",
       "</table>\n",
       "</div>"
      ],
      "text/plain": [
       "              Class  False Positive  False Negative  False Prediction\n",
       "0               Car        0.039400        0.078799          0.118199\n",
       "1             Chair        0.127580        0.003752          0.131332\n",
       "4      Fire Hydrant        0.138837        0.022514          0.161351\n",
       "8  Roadside Parking        0.227017        0.024390          0.251407\n",
       "9          Sidewalk        0.116323        0.180113          0.296435"
      ]
     },
     "execution_count": 9,
     "metadata": {},
     "output_type": "execute_result"
    }
   ],
   "source": [
    "hist_df_perc = pd.DataFrame.from_dict(hist_data_dict)\n",
    "hist_df_perc = hist_df_perc.sort_values(by=['False Prediction'])\n",
    "hist_df_perc.head()"
   ]
  },
  {
   "cell_type": "code",
   "execution_count": 10,
   "metadata": {},
   "outputs": [
    {
     "data": {
      "text/html": [
       "<div>\n",
       "<style scoped>\n",
       "    .dataframe tbody tr th:only-of-type {\n",
       "        vertical-align: middle;\n",
       "    }\n",
       "\n",
       "    .dataframe tbody tr th {\n",
       "        vertical-align: top;\n",
       "    }\n",
       "\n",
       "    .dataframe thead th {\n",
       "        text-align: right;\n",
       "    }\n",
       "</style>\n",
       "<table border=\"1\" class=\"dataframe\">\n",
       "  <thead>\n",
       "    <tr style=\"text-align: right;\">\n",
       "      <th></th>\n",
       "      <th>Types</th>\n",
       "      <th>Wrong Prediction (Probability)</th>\n",
       "      <th>Class</th>\n",
       "    </tr>\n",
       "    <tr>\n",
       "      <th>Class</th>\n",
       "      <th></th>\n",
       "      <th></th>\n",
       "      <th></th>\n",
       "    </tr>\n",
       "  </thead>\n",
       "  <tbody>\n",
       "    <tr>\n",
       "      <th>Car</th>\n",
       "      <td>False Positive</td>\n",
       "      <td>0.039400</td>\n",
       "      <td>Car</td>\n",
       "    </tr>\n",
       "    <tr>\n",
       "      <th>Chair</th>\n",
       "      <td>False Positive</td>\n",
       "      <td>0.127580</td>\n",
       "      <td>Chair</td>\n",
       "    </tr>\n",
       "    <tr>\n",
       "      <th>Fire Hydrant</th>\n",
       "      <td>False Positive</td>\n",
       "      <td>0.138837</td>\n",
       "      <td>Fire Hydrant</td>\n",
       "    </tr>\n",
       "    <tr>\n",
       "      <th>Roadside Parking</th>\n",
       "      <td>False Positive</td>\n",
       "      <td>0.227017</td>\n",
       "      <td>Roadside Parking</td>\n",
       "    </tr>\n",
       "    <tr>\n",
       "      <th>Sidewalk</th>\n",
       "      <td>False Positive</td>\n",
       "      <td>0.116323</td>\n",
       "      <td>Sidewalk</td>\n",
       "    </tr>\n",
       "    <tr>\n",
       "      <th>Trash On Roads</th>\n",
       "      <td>False Positive</td>\n",
       "      <td>0.281426</td>\n",
       "      <td>Trash On Roads</td>\n",
       "    </tr>\n",
       "    <tr>\n",
       "      <th>White Cane</th>\n",
       "      <td>False Positive</td>\n",
       "      <td>0.212008</td>\n",
       "      <td>White Cane</td>\n",
       "    </tr>\n",
       "    <tr>\n",
       "      <th>Wet Surface</th>\n",
       "      <td>False Positive</td>\n",
       "      <td>0.446529</td>\n",
       "      <td>Wet Surface</td>\n",
       "    </tr>\n",
       "    <tr>\n",
       "      <th>Curb</th>\n",
       "      <td>False Positive</td>\n",
       "      <td>0.339587</td>\n",
       "      <td>Curb</td>\n",
       "    </tr>\n",
       "    <tr>\n",
       "      <th>Wheelchair</th>\n",
       "      <td>False Positive</td>\n",
       "      <td>0.472795</td>\n",
       "      <td>Wheelchair</td>\n",
       "    </tr>\n",
       "    <tr>\n",
       "      <th>Fence</th>\n",
       "      <td>False Positive</td>\n",
       "      <td>0.549719</td>\n",
       "      <td>Fence</td>\n",
       "    </tr>\n",
       "    <tr>\n",
       "      <th>Fountain</th>\n",
       "      <td>False Positive</td>\n",
       "      <td>0.637899</td>\n",
       "      <td>Fountain</td>\n",
       "    </tr>\n",
       "    <tr>\n",
       "      <th>Person With A Disability</th>\n",
       "      <td>False Positive</td>\n",
       "      <td>0.091932</td>\n",
       "      <td>Person With A Disability</td>\n",
       "    </tr>\n",
       "    <tr>\n",
       "      <th>Gate</th>\n",
       "      <td>False Positive</td>\n",
       "      <td>0.699812</td>\n",
       "      <td>Gate</td>\n",
       "    </tr>\n",
       "    <tr>\n",
       "      <th>Sidewalk Pits</th>\n",
       "      <td>False Positive</td>\n",
       "      <td>0.716216</td>\n",
       "      <td>Sidewalk Pits</td>\n",
       "    </tr>\n",
       "    <tr>\n",
       "      <th>Car</th>\n",
       "      <td>False Negative</td>\n",
       "      <td>0.078799</td>\n",
       "      <td>Car</td>\n",
       "    </tr>\n",
       "    <tr>\n",
       "      <th>Chair</th>\n",
       "      <td>False Negative</td>\n",
       "      <td>0.003752</td>\n",
       "      <td>Chair</td>\n",
       "    </tr>\n",
       "    <tr>\n",
       "      <th>Fire Hydrant</th>\n",
       "      <td>False Negative</td>\n",
       "      <td>0.022514</td>\n",
       "      <td>Fire Hydrant</td>\n",
       "    </tr>\n",
       "    <tr>\n",
       "      <th>Roadside Parking</th>\n",
       "      <td>False Negative</td>\n",
       "      <td>0.024390</td>\n",
       "      <td>Roadside Parking</td>\n",
       "    </tr>\n",
       "    <tr>\n",
       "      <th>Sidewalk</th>\n",
       "      <td>False Negative</td>\n",
       "      <td>0.180113</td>\n",
       "      <td>Sidewalk</td>\n",
       "    </tr>\n",
       "    <tr>\n",
       "      <th>Trash On Roads</th>\n",
       "      <td>False Negative</td>\n",
       "      <td>0.041276</td>\n",
       "      <td>Trash On Roads</td>\n",
       "    </tr>\n",
       "    <tr>\n",
       "      <th>White Cane</th>\n",
       "      <td>False Negative</td>\n",
       "      <td>0.230769</td>\n",
       "      <td>White Cane</td>\n",
       "    </tr>\n",
       "    <tr>\n",
       "      <th>Wet Surface</th>\n",
       "      <td>False Negative</td>\n",
       "      <td>0.000000</td>\n",
       "      <td>Wet Surface</td>\n",
       "    </tr>\n",
       "    <tr>\n",
       "      <th>Curb</th>\n",
       "      <td>False Negative</td>\n",
       "      <td>0.108818</td>\n",
       "      <td>Curb</td>\n",
       "    </tr>\n",
       "    <tr>\n",
       "      <th>Wheelchair</th>\n",
       "      <td>False Negative</td>\n",
       "      <td>0.000000</td>\n",
       "      <td>Wheelchair</td>\n",
       "    </tr>\n",
       "    <tr>\n",
       "      <th>Fence</th>\n",
       "      <td>False Negative</td>\n",
       "      <td>0.054409</td>\n",
       "      <td>Fence</td>\n",
       "    </tr>\n",
       "    <tr>\n",
       "      <th>Fountain</th>\n",
       "      <td>False Negative</td>\n",
       "      <td>0.022514</td>\n",
       "      <td>Fountain</td>\n",
       "    </tr>\n",
       "    <tr>\n",
       "      <th>Person With A Disability</th>\n",
       "      <td>False Negative</td>\n",
       "      <td>0.581614</td>\n",
       "      <td>Person With A Disability</td>\n",
       "    </tr>\n",
       "    <tr>\n",
       "      <th>Gate</th>\n",
       "      <td>False Negative</td>\n",
       "      <td>0.013133</td>\n",
       "      <td>Gate</td>\n",
       "    </tr>\n",
       "    <tr>\n",
       "      <th>Sidewalk Pits</th>\n",
       "      <td>False Negative</td>\n",
       "      <td>0.000000</td>\n",
       "      <td>Sidewalk Pits</td>\n",
       "    </tr>\n",
       "  </tbody>\n",
       "</table>\n",
       "</div>"
      ],
      "text/plain": [
       "                                   Types  Wrong Prediction (Probability)  \\\n",
       "Class                                                                      \n",
       "Car                       False Positive                        0.039400   \n",
       "Chair                     False Positive                        0.127580   \n",
       "Fire Hydrant              False Positive                        0.138837   \n",
       "Roadside Parking          False Positive                        0.227017   \n",
       "Sidewalk                  False Positive                        0.116323   \n",
       "Trash On Roads            False Positive                        0.281426   \n",
       "White Cane                False Positive                        0.212008   \n",
       "Wet Surface               False Positive                        0.446529   \n",
       "Curb                      False Positive                        0.339587   \n",
       "Wheelchair                False Positive                        0.472795   \n",
       "Fence                     False Positive                        0.549719   \n",
       "Fountain                  False Positive                        0.637899   \n",
       "Person With A Disability  False Positive                        0.091932   \n",
       "Gate                      False Positive                        0.699812   \n",
       "Sidewalk Pits             False Positive                        0.716216   \n",
       "Car                       False Negative                        0.078799   \n",
       "Chair                     False Negative                        0.003752   \n",
       "Fire Hydrant              False Negative                        0.022514   \n",
       "Roadside Parking          False Negative                        0.024390   \n",
       "Sidewalk                  False Negative                        0.180113   \n",
       "Trash On Roads            False Negative                        0.041276   \n",
       "White Cane                False Negative                        0.230769   \n",
       "Wet Surface               False Negative                        0.000000   \n",
       "Curb                      False Negative                        0.108818   \n",
       "Wheelchair                False Negative                        0.000000   \n",
       "Fence                     False Negative                        0.054409   \n",
       "Fountain                  False Negative                        0.022514   \n",
       "Person With A Disability  False Negative                        0.581614   \n",
       "Gate                      False Negative                        0.013133   \n",
       "Sidewalk Pits             False Negative                        0.000000   \n",
       "\n",
       "                                             Class  \n",
       "Class                                               \n",
       "Car                                            Car  \n",
       "Chair                                        Chair  \n",
       "Fire Hydrant                          Fire Hydrant  \n",
       "Roadside Parking                  Roadside Parking  \n",
       "Sidewalk                                  Sidewalk  \n",
       "Trash On Roads                      Trash On Roads  \n",
       "White Cane                              White Cane  \n",
       "Wet Surface                            Wet Surface  \n",
       "Curb                                          Curb  \n",
       "Wheelchair                              Wheelchair  \n",
       "Fence                                        Fence  \n",
       "Fountain                                  Fountain  \n",
       "Person With A Disability  Person With A Disability  \n",
       "Gate                                          Gate  \n",
       "Sidewalk Pits                        Sidewalk Pits  \n",
       "Car                                            Car  \n",
       "Chair                                        Chair  \n",
       "Fire Hydrant                          Fire Hydrant  \n",
       "Roadside Parking                  Roadside Parking  \n",
       "Sidewalk                                  Sidewalk  \n",
       "Trash On Roads                      Trash On Roads  \n",
       "White Cane                              White Cane  \n",
       "Wet Surface                            Wet Surface  \n",
       "Curb                                          Curb  \n",
       "Wheelchair                              Wheelchair  \n",
       "Fence                                        Fence  \n",
       "Fountain                                  Fountain  \n",
       "Person With A Disability  Person With A Disability  \n",
       "Gate                                          Gate  \n",
       "Sidewalk Pits                        Sidewalk Pits  "
      ]
     },
     "execution_count": 10,
     "metadata": {},
     "output_type": "execute_result"
    }
   ],
   "source": [
    "hist_df_perc = pd.melt(\n",
    "    hist_df_perc, id_vars=['Class'],\n",
    "    var_name = 'Types',\n",
    "    value_vars = [\"False Positive\", \"False Negative\"],\n",
    "    value_name = 'Wrong Prediction (Probability)'\n",
    ")\n",
    "hist_df_perc.set_index(['Class'], inplace=True)\n",
    "hist_df_perc['Class'] = hist_df_perc.index\n",
    "hist_df_perc"
   ]
  },
  {
   "cell_type": "code",
   "execution_count": 11,
   "metadata": {},
   "outputs": [],
   "source": [
    "fig1 = px.scatter(x=[0, 1, 2, 3, 4], y=[0, 1, 4, 9, 16])\n",
    "fig1.write_image(os.path.join(output_path, \".garbage.pdf\"))"
   ]
  },
  {
   "cell_type": "code",
   "execution_count": null,
   "metadata": {},
   "outputs": [],
   "source": [
    "time.sleep(10)"
   ]
  },
  {
   "cell_type": "code",
   "execution_count": 14,
   "metadata": {},
   "outputs": [
    {
     "data": {
      "application/vnd.plotly.v1+json": {
       "config": {
        "plotlyServerURL": "https://plot.ly"
       },
       "data": [
        {
         "alignmentgroup": "True",
         "hovertemplate": "Types=False Positive<br>Wrong Prediction (Probability)=%{x}<br>Class=%{y}<extra></extra>",
         "legendgroup": "False Positive",
         "marker": {
          "color": "#F8766D",
          "pattern": {
           "shape": ""
          }
         },
         "name": "False Positive",
         "offsetgroup": "False Positive",
         "orientation": "h",
         "showlegend": true,
         "textposition": "auto",
         "type": "bar",
         "width": 0.65,
         "x": [
          0.039399624765478425,
          0.1275797373358349,
          0.13883677298311445,
          0.2270168855534709,
          0.11632270168855535,
          0.28142589118198874,
          0.21200750469043153,
          0.44652908067542213,
          0.3395872420262664,
          0.4727954971857411,
          0.549718574108818,
          0.6378986866791745,
          0.09193245778611632,
          0.699812382739212,
          0.7162162162162162
         ],
         "xaxis": "x",
         "y": [
          "Car",
          "Chair",
          "Fire Hydrant",
          "Roadside Parking",
          "Sidewalk",
          "Trash On Roads",
          "White Cane",
          "Wet Surface",
          "Curb",
          "Wheelchair",
          "Fence",
          "Fountain",
          "Person With A Disability",
          "Gate",
          "Sidewalk Pits"
         ],
         "yaxis": "y"
        },
        {
         "alignmentgroup": "True",
         "hovertemplate": "Types=False Negative<br>Wrong Prediction (Probability)=%{x}<br>Class=%{y}<extra></extra>",
         "legendgroup": "False Negative",
         "marker": {
          "color": "#A3A500",
          "pattern": {
           "shape": ""
          }
         },
         "name": "False Negative",
         "offsetgroup": "False Negative",
         "orientation": "h",
         "showlegend": true,
         "textposition": "auto",
         "type": "bar",
         "width": 0.65,
         "x": [
          0.07879924953095685,
          0.00375234521575985,
          0.0225140712945591,
          0.024390243902439025,
          0.1801125703564728,
          0.04127579737335835,
          0.23076923076923078,
          0,
          0.10881801125703565,
          0,
          0.054409005628517824,
          0.0225140712945591,
          0.5816135084427767,
          0.013133208255159476,
          0
         ],
         "xaxis": "x",
         "y": [
          "Car",
          "Chair",
          "Fire Hydrant",
          "Roadside Parking",
          "Sidewalk",
          "Trash On Roads",
          "White Cane",
          "Wet Surface",
          "Curb",
          "Wheelchair",
          "Fence",
          "Fountain",
          "Person With A Disability",
          "Gate",
          "Sidewalk Pits"
         ],
         "yaxis": "y"
        }
       ],
       "layout": {
        "barmode": "relative",
        "font": {
         "color": "blue",
         "family": "Courier New",
         "size": 10
        },
        "height": 300,
        "legend": {
         "orientation": "h",
         "title": {
          "font": {
           "color": "green"
          },
          "text": "Types"
         },
         "tracegroupgap": 0,
         "x": 1,
         "xanchor": "right",
         "y": 1.02,
         "yanchor": "bottom"
        },
        "margin": {
         "t": 60
        },
        "template": {
         "data": {
          "bar": [
           {
            "error_x": {
             "color": "rgb(51,51,51)"
            },
            "error_y": {
             "color": "rgb(51,51,51)"
            },
            "marker": {
             "line": {
              "color": "rgb(237,237,237)",
              "width": 0.5
             },
             "pattern": {
              "fillmode": "overlay",
              "size": 10,
              "solidity": 0.2
             }
            },
            "type": "bar"
           }
          ],
          "barpolar": [
           {
            "marker": {
             "line": {
              "color": "rgb(237,237,237)",
              "width": 0.5
             },
             "pattern": {
              "fillmode": "overlay",
              "size": 10,
              "solidity": 0.2
             }
            },
            "type": "barpolar"
           }
          ],
          "carpet": [
           {
            "aaxis": {
             "endlinecolor": "rgb(51,51,51)",
             "gridcolor": "white",
             "linecolor": "white",
             "minorgridcolor": "white",
             "startlinecolor": "rgb(51,51,51)"
            },
            "baxis": {
             "endlinecolor": "rgb(51,51,51)",
             "gridcolor": "white",
             "linecolor": "white",
             "minorgridcolor": "white",
             "startlinecolor": "rgb(51,51,51)"
            },
            "type": "carpet"
           }
          ],
          "choropleth": [
           {
            "colorbar": {
             "outlinewidth": 0,
             "tickcolor": "rgb(237,237,237)",
             "ticklen": 6,
             "ticks": "inside"
            },
            "type": "choropleth"
           }
          ],
          "contour": [
           {
            "colorbar": {
             "outlinewidth": 0,
             "tickcolor": "rgb(237,237,237)",
             "ticklen": 6,
             "ticks": "inside"
            },
            "colorscale": [
             [
              0,
              "rgb(20,44,66)"
             ],
             [
              1,
              "rgb(90,179,244)"
             ]
            ],
            "type": "contour"
           }
          ],
          "contourcarpet": [
           {
            "colorbar": {
             "outlinewidth": 0,
             "tickcolor": "rgb(237,237,237)",
             "ticklen": 6,
             "ticks": "inside"
            },
            "type": "contourcarpet"
           }
          ],
          "heatmap": [
           {
            "colorbar": {
             "outlinewidth": 0,
             "tickcolor": "rgb(237,237,237)",
             "ticklen": 6,
             "ticks": "inside"
            },
            "colorscale": [
             [
              0,
              "rgb(20,44,66)"
             ],
             [
              1,
              "rgb(90,179,244)"
             ]
            ],
            "type": "heatmap"
           }
          ],
          "heatmapgl": [
           {
            "colorbar": {
             "outlinewidth": 0,
             "tickcolor": "rgb(237,237,237)",
             "ticklen": 6,
             "ticks": "inside"
            },
            "colorscale": [
             [
              0,
              "rgb(20,44,66)"
             ],
             [
              1,
              "rgb(90,179,244)"
             ]
            ],
            "type": "heatmapgl"
           }
          ],
          "histogram": [
           {
            "marker": {
             "pattern": {
              "fillmode": "overlay",
              "size": 10,
              "solidity": 0.2
             }
            },
            "type": "histogram"
           }
          ],
          "histogram2d": [
           {
            "colorbar": {
             "outlinewidth": 0,
             "tickcolor": "rgb(237,237,237)",
             "ticklen": 6,
             "ticks": "inside"
            },
            "colorscale": [
             [
              0,
              "rgb(20,44,66)"
             ],
             [
              1,
              "rgb(90,179,244)"
             ]
            ],
            "type": "histogram2d"
           }
          ],
          "histogram2dcontour": [
           {
            "colorbar": {
             "outlinewidth": 0,
             "tickcolor": "rgb(237,237,237)",
             "ticklen": 6,
             "ticks": "inside"
            },
            "colorscale": [
             [
              0,
              "rgb(20,44,66)"
             ],
             [
              1,
              "rgb(90,179,244)"
             ]
            ],
            "type": "histogram2dcontour"
           }
          ],
          "mesh3d": [
           {
            "colorbar": {
             "outlinewidth": 0,
             "tickcolor": "rgb(237,237,237)",
             "ticklen": 6,
             "ticks": "inside"
            },
            "type": "mesh3d"
           }
          ],
          "parcoords": [
           {
            "line": {
             "colorbar": {
              "outlinewidth": 0,
              "tickcolor": "rgb(237,237,237)",
              "ticklen": 6,
              "ticks": "inside"
             }
            },
            "type": "parcoords"
           }
          ],
          "pie": [
           {
            "automargin": true,
            "type": "pie"
           }
          ],
          "scatter": [
           {
            "fillpattern": {
             "fillmode": "overlay",
             "size": 10,
             "solidity": 0.2
            },
            "type": "scatter"
           }
          ],
          "scatter3d": [
           {
            "line": {
             "colorbar": {
              "outlinewidth": 0,
              "tickcolor": "rgb(237,237,237)",
              "ticklen": 6,
              "ticks": "inside"
             }
            },
            "marker": {
             "colorbar": {
              "outlinewidth": 0,
              "tickcolor": "rgb(237,237,237)",
              "ticklen": 6,
              "ticks": "inside"
             }
            },
            "type": "scatter3d"
           }
          ],
          "scattercarpet": [
           {
            "marker": {
             "colorbar": {
              "outlinewidth": 0,
              "tickcolor": "rgb(237,237,237)",
              "ticklen": 6,
              "ticks": "inside"
             }
            },
            "type": "scattercarpet"
           }
          ],
          "scattergeo": [
           {
            "marker": {
             "colorbar": {
              "outlinewidth": 0,
              "tickcolor": "rgb(237,237,237)",
              "ticklen": 6,
              "ticks": "inside"
             }
            },
            "type": "scattergeo"
           }
          ],
          "scattergl": [
           {
            "marker": {
             "colorbar": {
              "outlinewidth": 0,
              "tickcolor": "rgb(237,237,237)",
              "ticklen": 6,
              "ticks": "inside"
             }
            },
            "type": "scattergl"
           }
          ],
          "scattermapbox": [
           {
            "marker": {
             "colorbar": {
              "outlinewidth": 0,
              "tickcolor": "rgb(237,237,237)",
              "ticklen": 6,
              "ticks": "inside"
             }
            },
            "type": "scattermapbox"
           }
          ],
          "scatterpolar": [
           {
            "marker": {
             "colorbar": {
              "outlinewidth": 0,
              "tickcolor": "rgb(237,237,237)",
              "ticklen": 6,
              "ticks": "inside"
             }
            },
            "type": "scatterpolar"
           }
          ],
          "scatterpolargl": [
           {
            "marker": {
             "colorbar": {
              "outlinewidth": 0,
              "tickcolor": "rgb(237,237,237)",
              "ticklen": 6,
              "ticks": "inside"
             }
            },
            "type": "scatterpolargl"
           }
          ],
          "scatterternary": [
           {
            "marker": {
             "colorbar": {
              "outlinewidth": 0,
              "tickcolor": "rgb(237,237,237)",
              "ticklen": 6,
              "ticks": "inside"
             }
            },
            "type": "scatterternary"
           }
          ],
          "surface": [
           {
            "colorbar": {
             "outlinewidth": 0,
             "tickcolor": "rgb(237,237,237)",
             "ticklen": 6,
             "ticks": "inside"
            },
            "colorscale": [
             [
              0,
              "rgb(20,44,66)"
             ],
             [
              1,
              "rgb(90,179,244)"
             ]
            ],
            "type": "surface"
           }
          ],
          "table": [
           {
            "cells": {
             "fill": {
              "color": "rgb(237,237,237)"
             },
             "line": {
              "color": "white"
             }
            },
            "header": {
             "fill": {
              "color": "rgb(217,217,217)"
             },
             "line": {
              "color": "white"
             }
            },
            "type": "table"
           }
          ]
         },
         "layout": {
          "annotationdefaults": {
           "arrowhead": 0,
           "arrowwidth": 1
          },
          "autotypenumbers": "strict",
          "coloraxis": {
           "colorbar": {
            "outlinewidth": 0,
            "tickcolor": "rgb(237,237,237)",
            "ticklen": 6,
            "ticks": "inside"
           }
          },
          "colorscale": {
           "sequential": [
            [
             0,
             "rgb(20,44,66)"
            ],
            [
             1,
             "rgb(90,179,244)"
            ]
           ],
           "sequentialminus": [
            [
             0,
             "rgb(20,44,66)"
            ],
            [
             1,
             "rgb(90,179,244)"
            ]
           ]
          },
          "colorway": [
           "#F8766D",
           "#A3A500",
           "#00BF7D",
           "#00B0F6",
           "#E76BF3"
          ],
          "font": {
           "color": "rgb(51,51,51)"
          },
          "geo": {
           "bgcolor": "white",
           "lakecolor": "white",
           "landcolor": "rgb(237,237,237)",
           "showlakes": true,
           "showland": true,
           "subunitcolor": "white"
          },
          "hoverlabel": {
           "align": "left"
          },
          "hovermode": "closest",
          "paper_bgcolor": "white",
          "plot_bgcolor": "rgb(237,237,237)",
          "polar": {
           "angularaxis": {
            "gridcolor": "white",
            "linecolor": "white",
            "showgrid": true,
            "tickcolor": "rgb(51,51,51)",
            "ticks": "outside"
           },
           "bgcolor": "rgb(237,237,237)",
           "radialaxis": {
            "gridcolor": "white",
            "linecolor": "white",
            "showgrid": true,
            "tickcolor": "rgb(51,51,51)",
            "ticks": "outside"
           }
          },
          "scene": {
           "xaxis": {
            "backgroundcolor": "rgb(237,237,237)",
            "gridcolor": "white",
            "gridwidth": 2,
            "linecolor": "white",
            "showbackground": true,
            "showgrid": true,
            "tickcolor": "rgb(51,51,51)",
            "ticks": "outside",
            "zerolinecolor": "white"
           },
           "yaxis": {
            "backgroundcolor": "rgb(237,237,237)",
            "gridcolor": "white",
            "gridwidth": 2,
            "linecolor": "white",
            "showbackground": true,
            "showgrid": true,
            "tickcolor": "rgb(51,51,51)",
            "ticks": "outside",
            "zerolinecolor": "white"
           },
           "zaxis": {
            "backgroundcolor": "rgb(237,237,237)",
            "gridcolor": "white",
            "gridwidth": 2,
            "linecolor": "white",
            "showbackground": true,
            "showgrid": true,
            "tickcolor": "rgb(51,51,51)",
            "ticks": "outside",
            "zerolinecolor": "white"
           }
          },
          "shapedefaults": {
           "fillcolor": "black",
           "line": {
            "width": 0
           },
           "opacity": 0.3
          },
          "ternary": {
           "aaxis": {
            "gridcolor": "white",
            "linecolor": "white",
            "showgrid": true,
            "tickcolor": "rgb(51,51,51)",
            "ticks": "outside"
           },
           "baxis": {
            "gridcolor": "white",
            "linecolor": "white",
            "showgrid": true,
            "tickcolor": "rgb(51,51,51)",
            "ticks": "outside"
           },
           "bgcolor": "rgb(237,237,237)",
           "caxis": {
            "gridcolor": "white",
            "linecolor": "white",
            "showgrid": true,
            "tickcolor": "rgb(51,51,51)",
            "ticks": "outside"
           }
          },
          "xaxis": {
           "automargin": true,
           "gridcolor": "white",
           "linecolor": "white",
           "showgrid": true,
           "tickcolor": "rgb(51,51,51)",
           "ticks": "outside",
           "title": {
            "standoff": 15
           },
           "zerolinecolor": "white"
          },
          "yaxis": {
           "automargin": true,
           "gridcolor": "white",
           "linecolor": "white",
           "showgrid": true,
           "tickcolor": "rgb(51,51,51)",
           "ticks": "outside",
           "title": {
            "standoff": 15
           },
           "zerolinecolor": "white"
          }
         }
        },
        "title": {
         "font": {
          "color": "red",
          "family": "Times New Roman"
         }
        },
        "width": 400,
        "xaxis": {
         "anchor": "y",
         "autorange": true,
         "domain": [
          0,
          1
         ],
         "range": [
          0,
          0.7539118065433855
         ],
         "title": {
          "text": "Wrong Prediction (Probability)"
         },
         "type": "linear"
        },
        "yaxis": {
         "anchor": "x",
         "autorange": true,
         "domain": [
          0,
          1
         ],
         "dtick": [
          "Car",
          "Chair",
          "Fire Hydrant",
          "Roadside Parking",
          "Sidewalk",
          "Trash On Roads",
          "White Cane",
          "Wet Surface",
          "Curb",
          "Wheelchair",
          "Fence",
          "Fountain",
          "Person With A Disability",
          "Gate",
          "Sidewalk Pits",
          "Car",
          "Chair",
          "Fire Hydrant",
          "Roadside Parking",
          "Sidewalk",
          "Trash On Roads",
          "White Cane",
          "Wet Surface",
          "Curb",
          "Wheelchair",
          "Fence",
          "Fountain",
          "Person With A Disability",
          "Gate",
          "Sidewalk Pits"
         ],
         "range": [
          -0.5,
          14.5
         ],
         "title": {
          "text": "Class"
         },
         "type": "category"
        }
       }
      },
      "image/png": "[encoded data removed]",
      "text/html": [
       "<div>                            <div id=\"01439941-4e94-432f-bf4f-43dc5403989e\" class=\"plotly-graph-div\" style=\"height:300px; width:400px;\"></div>            <script type=\"text/javascript\">                require([\"plotly\"], function(Plotly) {                    window.PLOTLYENV=window.PLOTLYENV || {};                                    if (document.getElementById(\"01439941-4e94-432f-bf4f-43dc5403989e\")) {                    Plotly.newPlot(                        \"01439941-4e94-432f-bf4f-43dc5403989e\",                        [{\"alignmentgroup\":\"True\",\"hovertemplate\":\"Types=False Positive<br>Wrong Prediction (Probability)=%{x}<br>Class=%{y}<extra></extra>\",\"legendgroup\":\"False Positive\",\"marker\":{\"color\":\"#F8766D\",\"pattern\":{\"shape\":\"\"}},\"name\":\"False Positive\",\"offsetgroup\":\"False Positive\",\"orientation\":\"h\",\"showlegend\":true,\"textposition\":\"auto\",\"x\":[0.039399624765478425,0.1275797373358349,0.13883677298311445,0.2270168855534709,0.11632270168855535,0.28142589118198874,0.21200750469043153,0.44652908067542213,0.3395872420262664,0.4727954971857411,0.549718574108818,0.6378986866791745,0.09193245778611632,0.699812382739212,0.7162162162162162],\"xaxis\":\"x\",\"y\":[\"Car\",\"Chair\",\"Fire Hydrant\",\"Roadside Parking\",\"Sidewalk\",\"Trash On Roads\",\"White Cane\",\"Wet Surface\",\"Curb\",\"Wheelchair\",\"Fence\",\"Fountain\",\"Person With A Disability\",\"Gate\",\"Sidewalk Pits\"],\"yaxis\":\"y\",\"type\":\"bar\",\"width\":0.65},{\"alignmentgroup\":\"True\",\"hovertemplate\":\"Types=False Negative<br>Wrong Prediction (Probability)=%{x}<br>Class=%{y}<extra></extra>\",\"legendgroup\":\"False Negative\",\"marker\":{\"color\":\"#A3A500\",\"pattern\":{\"shape\":\"\"}},\"name\":\"False Negative\",\"offsetgroup\":\"False Negative\",\"orientation\":\"h\",\"showlegend\":true,\"textposition\":\"auto\",\"x\":[0.07879924953095685,0.00375234521575985,0.0225140712945591,0.024390243902439025,0.1801125703564728,0.04127579737335835,0.23076923076923078,0.0,0.10881801125703565,0.0,0.054409005628517824,0.0225140712945591,0.5816135084427767,0.013133208255159476,0.0],\"xaxis\":\"x\",\"y\":[\"Car\",\"Chair\",\"Fire Hydrant\",\"Roadside Parking\",\"Sidewalk\",\"Trash On Roads\",\"White Cane\",\"Wet Surface\",\"Curb\",\"Wheelchair\",\"Fence\",\"Fountain\",\"Person With A Disability\",\"Gate\",\"Sidewalk Pits\"],\"yaxis\":\"y\",\"type\":\"bar\",\"width\":0.65}],                        {\"template\":{\"data\":{\"barpolar\":[{\"marker\":{\"line\":{\"color\":\"rgb(237,237,237)\",\"width\":0.5},\"pattern\":{\"fillmode\":\"overlay\",\"size\":10,\"solidity\":0.2}},\"type\":\"barpolar\"}],\"bar\":[{\"error_x\":{\"color\":\"rgb(51,51,51)\"},\"error_y\":{\"color\":\"rgb(51,51,51)\"},\"marker\":{\"line\":{\"color\":\"rgb(237,237,237)\",\"width\":0.5},\"pattern\":{\"fillmode\":\"overlay\",\"size\":10,\"solidity\":0.2}},\"type\":\"bar\"}],\"carpet\":[{\"aaxis\":{\"endlinecolor\":\"rgb(51,51,51)\",\"gridcolor\":\"white\",\"linecolor\":\"white\",\"minorgridcolor\":\"white\",\"startlinecolor\":\"rgb(51,51,51)\"},\"baxis\":{\"endlinecolor\":\"rgb(51,51,51)\",\"gridcolor\":\"white\",\"linecolor\":\"white\",\"minorgridcolor\":\"white\",\"startlinecolor\":\"rgb(51,51,51)\"},\"type\":\"carpet\"}],\"choropleth\":[{\"colorbar\":{\"outlinewidth\":0,\"tickcolor\":\"rgb(237,237,237)\",\"ticklen\":6,\"ticks\":\"inside\"},\"type\":\"choropleth\"}],\"contourcarpet\":[{\"colorbar\":{\"outlinewidth\":0,\"tickcolor\":\"rgb(237,237,237)\",\"ticklen\":6,\"ticks\":\"inside\"},\"type\":\"contourcarpet\"}],\"contour\":[{\"colorbar\":{\"outlinewidth\":0,\"tickcolor\":\"rgb(237,237,237)\",\"ticklen\":6,\"ticks\":\"inside\"},\"colorscale\":[[0,\"rgb(20,44,66)\"],[1,\"rgb(90,179,244)\"]],\"type\":\"contour\"}],\"heatmapgl\":[{\"colorbar\":{\"outlinewidth\":0,\"tickcolor\":\"rgb(237,237,237)\",\"ticklen\":6,\"ticks\":\"inside\"},\"colorscale\":[[0,\"rgb(20,44,66)\"],[1,\"rgb(90,179,244)\"]],\"type\":\"heatmapgl\"}],\"heatmap\":[{\"colorbar\":{\"outlinewidth\":0,\"tickcolor\":\"rgb(237,237,237)\",\"ticklen\":6,\"ticks\":\"inside\"},\"colorscale\":[[0,\"rgb(20,44,66)\"],[1,\"rgb(90,179,244)\"]],\"type\":\"heatmap\"}],\"histogram2dcontour\":[{\"colorbar\":{\"outlinewidth\":0,\"tickcolor\":\"rgb(237,237,237)\",\"ticklen\":6,\"ticks\":\"inside\"},\"colorscale\":[[0,\"rgb(20,44,66)\"],[1,\"rgb(90,179,244)\"]],\"type\":\"histogram2dcontour\"}],\"histogram2d\":[{\"colorbar\":{\"outlinewidth\":0,\"tickcolor\":\"rgb(237,237,237)\",\"ticklen\":6,\"ticks\":\"inside\"},\"colorscale\":[[0,\"rgb(20,44,66)\"],[1,\"rgb(90,179,244)\"]],\"type\":\"histogram2d\"}],\"histogram\":[{\"marker\":{\"pattern\":{\"fillmode\":\"overlay\",\"size\":10,\"solidity\":0.2}},\"type\":\"histogram\"}],\"mesh3d\":[{\"colorbar\":{\"outlinewidth\":0,\"tickcolor\":\"rgb(237,237,237)\",\"ticklen\":6,\"ticks\":\"inside\"},\"type\":\"mesh3d\"}],\"parcoords\":[{\"line\":{\"colorbar\":{\"outlinewidth\":0,\"tickcolor\":\"rgb(237,237,237)\",\"ticklen\":6,\"ticks\":\"inside\"}},\"type\":\"parcoords\"}],\"pie\":[{\"automargin\":true,\"type\":\"pie\"}],\"scatter3d\":[{\"line\":{\"colorbar\":{\"outlinewidth\":0,\"tickcolor\":\"rgb(237,237,237)\",\"ticklen\":6,\"ticks\":\"inside\"}},\"marker\":{\"colorbar\":{\"outlinewidth\":0,\"tickcolor\":\"rgb(237,237,237)\",\"ticklen\":6,\"ticks\":\"inside\"}},\"type\":\"scatter3d\"}],\"scattercarpet\":[{\"marker\":{\"colorbar\":{\"outlinewidth\":0,\"tickcolor\":\"rgb(237,237,237)\",\"ticklen\":6,\"ticks\":\"inside\"}},\"type\":\"scattercarpet\"}],\"scattergeo\":[{\"marker\":{\"colorbar\":{\"outlinewidth\":0,\"tickcolor\":\"rgb(237,237,237)\",\"ticklen\":6,\"ticks\":\"inside\"}},\"type\":\"scattergeo\"}],\"scattergl\":[{\"marker\":{\"colorbar\":{\"outlinewidth\":0,\"tickcolor\":\"rgb(237,237,237)\",\"ticklen\":6,\"ticks\":\"inside\"}},\"type\":\"scattergl\"}],\"scattermapbox\":[{\"marker\":{\"colorbar\":{\"outlinewidth\":0,\"tickcolor\":\"rgb(237,237,237)\",\"ticklen\":6,\"ticks\":\"inside\"}},\"type\":\"scattermapbox\"}],\"scatterpolargl\":[{\"marker\":{\"colorbar\":{\"outlinewidth\":0,\"tickcolor\":\"rgb(237,237,237)\",\"ticklen\":6,\"ticks\":\"inside\"}},\"type\":\"scatterpolargl\"}],\"scatterpolar\":[{\"marker\":{\"colorbar\":{\"outlinewidth\":0,\"tickcolor\":\"rgb(237,237,237)\",\"ticklen\":6,\"ticks\":\"inside\"}},\"type\":\"scatterpolar\"}],\"scatter\":[{\"fillpattern\":{\"fillmode\":\"overlay\",\"size\":10,\"solidity\":0.2},\"type\":\"scatter\"}],\"scatterternary\":[{\"marker\":{\"colorbar\":{\"outlinewidth\":0,\"tickcolor\":\"rgb(237,237,237)\",\"ticklen\":6,\"ticks\":\"inside\"}},\"type\":\"scatterternary\"}],\"surface\":[{\"colorbar\":{\"outlinewidth\":0,\"tickcolor\":\"rgb(237,237,237)\",\"ticklen\":6,\"ticks\":\"inside\"},\"colorscale\":[[0,\"rgb(20,44,66)\"],[1,\"rgb(90,179,244)\"]],\"type\":\"surface\"}],\"table\":[{\"cells\":{\"fill\":{\"color\":\"rgb(237,237,237)\"},\"line\":{\"color\":\"white\"}},\"header\":{\"fill\":{\"color\":\"rgb(217,217,217)\"},\"line\":{\"color\":\"white\"}},\"type\":\"table\"}]},\"layout\":{\"annotationdefaults\":{\"arrowhead\":0,\"arrowwidth\":1},\"autotypenumbers\":\"strict\",\"coloraxis\":{\"colorbar\":{\"outlinewidth\":0,\"tickcolor\":\"rgb(237,237,237)\",\"ticklen\":6,\"ticks\":\"inside\"}},\"colorscale\":{\"sequential\":[[0,\"rgb(20,44,66)\"],[1,\"rgb(90,179,244)\"]],\"sequentialminus\":[[0,\"rgb(20,44,66)\"],[1,\"rgb(90,179,244)\"]]},\"colorway\":[\"#F8766D\",\"#A3A500\",\"#00BF7D\",\"#00B0F6\",\"#E76BF3\"],\"font\":{\"color\":\"rgb(51,51,51)\"},\"geo\":{\"bgcolor\":\"white\",\"lakecolor\":\"white\",\"landcolor\":\"rgb(237,237,237)\",\"showlakes\":true,\"showland\":true,\"subunitcolor\":\"white\"},\"hoverlabel\":{\"align\":\"left\"},\"hovermode\":\"closest\",\"paper_bgcolor\":\"white\",\"plot_bgcolor\":\"rgb(237,237,237)\",\"polar\":{\"angularaxis\":{\"gridcolor\":\"white\",\"linecolor\":\"white\",\"showgrid\":true,\"tickcolor\":\"rgb(51,51,51)\",\"ticks\":\"outside\"},\"bgcolor\":\"rgb(237,237,237)\",\"radialaxis\":{\"gridcolor\":\"white\",\"linecolor\":\"white\",\"showgrid\":true,\"tickcolor\":\"rgb(51,51,51)\",\"ticks\":\"outside\"}},\"scene\":{\"xaxis\":{\"backgroundcolor\":\"rgb(237,237,237)\",\"gridcolor\":\"white\",\"gridwidth\":2,\"linecolor\":\"white\",\"showbackground\":true,\"showgrid\":true,\"tickcolor\":\"rgb(51,51,51)\",\"ticks\":\"outside\",\"zerolinecolor\":\"white\"},\"yaxis\":{\"backgroundcolor\":\"rgb(237,237,237)\",\"gridcolor\":\"white\",\"gridwidth\":2,\"linecolor\":\"white\",\"showbackground\":true,\"showgrid\":true,\"tickcolor\":\"rgb(51,51,51)\",\"ticks\":\"outside\",\"zerolinecolor\":\"white\"},\"zaxis\":{\"backgroundcolor\":\"rgb(237,237,237)\",\"gridcolor\":\"white\",\"gridwidth\":2,\"linecolor\":\"white\",\"showbackground\":true,\"showgrid\":true,\"tickcolor\":\"rgb(51,51,51)\",\"ticks\":\"outside\",\"zerolinecolor\":\"white\"}},\"shapedefaults\":{\"fillcolor\":\"black\",\"line\":{\"width\":0},\"opacity\":0.3},\"ternary\":{\"aaxis\":{\"gridcolor\":\"white\",\"linecolor\":\"white\",\"showgrid\":true,\"tickcolor\":\"rgb(51,51,51)\",\"ticks\":\"outside\"},\"baxis\":{\"gridcolor\":\"white\",\"linecolor\":\"white\",\"showgrid\":true,\"tickcolor\":\"rgb(51,51,51)\",\"ticks\":\"outside\"},\"bgcolor\":\"rgb(237,237,237)\",\"caxis\":{\"gridcolor\":\"white\",\"linecolor\":\"white\",\"showgrid\":true,\"tickcolor\":\"rgb(51,51,51)\",\"ticks\":\"outside\"}},\"xaxis\":{\"automargin\":true,\"gridcolor\":\"white\",\"linecolor\":\"white\",\"showgrid\":true,\"tickcolor\":\"rgb(51,51,51)\",\"ticks\":\"outside\",\"title\":{\"standoff\":15},\"zerolinecolor\":\"white\"},\"yaxis\":{\"automargin\":true,\"gridcolor\":\"white\",\"linecolor\":\"white\",\"showgrid\":true,\"tickcolor\":\"rgb(51,51,51)\",\"ticks\":\"outside\",\"title\":{\"standoff\":15},\"zerolinecolor\":\"white\"}}},\"xaxis\":{\"anchor\":\"y\",\"domain\":[0.0,1.0],\"title\":{\"text\":\"Wrong Prediction (Probability)\"}},\"yaxis\":{\"anchor\":\"x\",\"domain\":[0.0,1.0],\"title\":{\"text\":\"Class\"},\"dtick\":[\"Car\",\"Chair\",\"Fire Hydrant\",\"Roadside Parking\",\"Sidewalk\",\"Trash On Roads\",\"White Cane\",\"Wet Surface\",\"Curb\",\"Wheelchair\",\"Fence\",\"Fountain\",\"Person With A Disability\",\"Gate\",\"Sidewalk Pits\",\"Car\",\"Chair\",\"Fire Hydrant\",\"Roadside Parking\",\"Sidewalk\",\"Trash On Roads\",\"White Cane\",\"Wet Surface\",\"Curb\",\"Wheelchair\",\"Fence\",\"Fountain\",\"Person With A Disability\",\"Gate\",\"Sidewalk Pits\"]},\"legend\":{\"title\":{\"text\":\"Types\",\"font\":{\"color\":\"green\"}},\"tracegroupgap\":0,\"orientation\":\"h\",\"yanchor\":\"bottom\",\"y\":1.02,\"xanchor\":\"right\",\"x\":1},\"margin\":{\"t\":60},\"barmode\":\"relative\",\"height\":300,\"width\":400,\"font\":{\"family\":\"Courier New\",\"color\":\"blue\",\"size\":10},\"title\":{\"font\":{\"family\":\"Times New Roman\",\"color\":\"red\"}}},                        {\"responsive\": true}                    ).then(function(){\n",
       "                            \n",
       "var gd = document.getElementById('01439941-4e94-432f-bf4f-43dc5403989e');\n",
       "var x = new MutationObserver(function (mutations, observer) {{\n",
       "        var display = window.getComputedStyle(gd).display;\n",
       "        if (!display || display === 'none') {{\n",
       "            console.log([gd, 'removed!']);\n",
       "            Plotly.purge(gd);\n",
       "            observer.disconnect();\n",
       "        }}\n",
       "}});\n",
       "\n",
       "// Listen for the removal of the full notebook cells\n",
       "var notebookContainer = gd.closest('#notebook-container');\n",
       "if (notebookContainer) {{\n",
       "    x.observe(notebookContainer, {childList: true});\n",
       "}}\n",
       "\n",
       "// Listen for the clearing of the current output cell\n",
       "var outputEl = gd.closest('.output');\n",
       "if (outputEl) {{\n",
       "    x.observe(outputEl, {childList: true});\n",
       "}}\n",
       "\n",
       "                        })                };                });            </script>        </div>"
      ]
     },
     "metadata": {},
     "output_type": "display_data"
    }
   ],
   "source": [
    "fig = px.bar(\n",
    "    hist_df_perc, \n",
    "    y='Class', \n",
    "    x='Wrong Prediction (Probability)', \n",
    "    color='Types',\n",
    "    template=\"ggplot2\", \n",
    "    orientation='h', \n",
    "    width=400, \n",
    "    height=300\n",
    ")\n",
    "fig.update_traces(width=0.65)\n",
    "fig.update_yaxes(dtick=hist_df_perc['Class'])\n",
    "fig.update_layout(\n",
    "    font_family=\"Courier New\",\n",
    "    font_color=\"blue\",\n",
    "    title_font_family=\"Times New Roman\",\n",
    "    title_font_color=\"red\",\n",
    "    legend_title_font_color=\"green\",\n",
    "    font=dict(size=10),\n",
    ")\n",
    "fig.update_layout(legend=dict(\n",
    "    orientation=\"h\",\n",
    "    yanchor=\"bottom\",\n",
    "    y=1.02,\n",
    "    xanchor=\"right\",\n",
    "    x=1\n",
    "))\n",
    "\n",
    "filename = f'{datetime.now().strftime(\"%Y_%m_%d-%I_%M_%S_%p\")}.pdf'\n",
    "\n",
    "fig.write_image(\n",
    "    os.path.join(output_path, filename), \n",
    "    format='pdf'\n",
    ")\n",
    "fig.show()"
   ]
  },
  {
   "cell_type": "code",
   "execution_count": 10,
   "metadata": {},
   "outputs": [
    {
     "data": {
      "application/vnd.plotly.v1+json": {
       "config": {
        "plotlyServerURL": "https://plot.ly"
       },
       "data": [
        {
         "alignmentgroup": "True",
         "hovertemplate": "Occurrences=%{x}<br>Class=%{y}<extra></extra>",
         "legendgroup": "",
         "marker": {
          "color": "#F8766D",
          "pattern": {
           "shape": ""
          }
         },
         "name": "",
         "offsetgroup": "",
         "orientation": "h",
         "showlegend": false,
         "textposition": "auto",
         "type": "bar",
         "width": 0.65,
         "x": [
          1,
          1,
          2,
          2,
          4,
          4,
          6,
          6,
          7,
          8,
          9,
          9,
          10,
          10,
          11,
          12,
          12,
          12,
          12,
          12,
          15,
          16,
          18,
          23,
          27,
          28,
          35,
          35,
          36,
          36,
          38,
          38,
          39,
          40,
          49,
          49,
          50,
          55,
          56,
          60,
          63,
          63,
          64,
          75,
          87,
          88,
          91,
          98,
          103,
          108,
          124,
          137,
          139,
          161,
          183,
          220,
          232,
          256,
          274,
          276,
          316,
          415,
          453,
          478
         ],
         "xaxis": "x",
         "y": [
          "Train Platform",
          "Elevator",
          "Barrier Stump",
          "Flush Door",
          "Chair",
          "Bridge",
          "Push Button",
          "Stop Sign",
          "Turnstile",
          "Maintenance Vehicle",
          "Street Vendor",
          "Bus Stop",
          "Bus",
          "Paratransit Vehicle",
          "Road Divider",
          "Motorcycle",
          "Wet Surface",
          "Fountain",
          "Closed Sidewalk",
          "Fire Hydrant",
          "Uncontrolled Crossing",
          "Mail Box",
          "Yard Waste",
          "Puddle",
          "Sloped Driveway",
          "Gutter",
          "Pillar",
          "Unpaved Sidewalk",
          "Retaining Wall",
          "Raised Entryway",
          "Sign Post",
          "Barrier Post",
          "Trash On Roads",
          "Road Shoulder",
          "Bicycle",
          "Traffic Signals",
          "Driveway(Flat)",
          "Bench",
          "Sign",
          "Crosswalk",
          "Tactile Paving",
          "Trash Bins",
          "Gate",
          "Pedestrian Crossing",
          "Stairs",
          "Lamp Post",
          "Parallel Parking Spot",
          "Accent Paving",
          "Fence",
          "Railing",
          "Roadside Parking",
          "Tree",
          "Slopped Curb",
          "Pole",
          "Wall",
          "Car",
          "Vegetation",
          "Building",
          "Curb",
          "White Cane",
          "Road",
          "Sidewalk",
          "Person With A Disability",
          "Person"
         ],
         "yaxis": "y"
        }
       ],
       "layout": {
        "barmode": "relative",
        "font": {
         "color": "blue",
         "family": "Courier New",
         "size": 10
        },
        "height": 1000,
        "legend": {
         "orientation": "h",
         "title": {
          "font": {
           "color": "green"
          }
         },
         "tracegroupgap": 0,
         "x": 1,
         "xanchor": "right",
         "y": 1.02,
         "yanchor": "bottom"
        },
        "margin": {
         "t": 60
        },
        "template": {
         "data": {
          "bar": [
           {
            "error_x": {
             "color": "rgb(51,51,51)"
            },
            "error_y": {
             "color": "rgb(51,51,51)"
            },
            "marker": {
             "line": {
              "color": "rgb(237,237,237)",
              "width": 0.5
             },
             "pattern": {
              "fillmode": "overlay",
              "size": 10,
              "solidity": 0.2
             }
            },
            "type": "bar"
           }
          ],
          "barpolar": [
           {
            "marker": {
             "line": {
              "color": "rgb(237,237,237)",
              "width": 0.5
             },
             "pattern": {
              "fillmode": "overlay",
              "size": 10,
              "solidity": 0.2
             }
            },
            "type": "barpolar"
           }
          ],
          "carpet": [
           {
            "aaxis": {
             "endlinecolor": "rgb(51,51,51)",
             "gridcolor": "white",
             "linecolor": "white",
             "minorgridcolor": "white",
             "startlinecolor": "rgb(51,51,51)"
            },
            "baxis": {
             "endlinecolor": "rgb(51,51,51)",
             "gridcolor": "white",
             "linecolor": "white",
             "minorgridcolor": "white",
             "startlinecolor": "rgb(51,51,51)"
            },
            "type": "carpet"
           }
          ],
          "choropleth": [
           {
            "colorbar": {
             "outlinewidth": 0,
             "tickcolor": "rgb(237,237,237)",
             "ticklen": 6,
             "ticks": "inside"
            },
            "type": "choropleth"
           }
          ],
          "contour": [
           {
            "colorbar": {
             "outlinewidth": 0,
             "tickcolor": "rgb(237,237,237)",
             "ticklen": 6,
             "ticks": "inside"
            },
            "colorscale": [
             [
              0,
              "rgb(20,44,66)"
             ],
             [
              1,
              "rgb(90,179,244)"
             ]
            ],
            "type": "contour"
           }
          ],
          "contourcarpet": [
           {
            "colorbar": {
             "outlinewidth": 0,
             "tickcolor": "rgb(237,237,237)",
             "ticklen": 6,
             "ticks": "inside"
            },
            "type": "contourcarpet"
           }
          ],
          "heatmap": [
           {
            "colorbar": {
             "outlinewidth": 0,
             "tickcolor": "rgb(237,237,237)",
             "ticklen": 6,
             "ticks": "inside"
            },
            "colorscale": [
             [
              0,
              "rgb(20,44,66)"
             ],
             [
              1,
              "rgb(90,179,244)"
             ]
            ],
            "type": "heatmap"
           }
          ],
          "heatmapgl": [
           {
            "colorbar": {
             "outlinewidth": 0,
             "tickcolor": "rgb(237,237,237)",
             "ticklen": 6,
             "ticks": "inside"
            },
            "colorscale": [
             [
              0,
              "rgb(20,44,66)"
             ],
             [
              1,
              "rgb(90,179,244)"
             ]
            ],
            "type": "heatmapgl"
           }
          ],
          "histogram": [
           {
            "marker": {
             "pattern": {
              "fillmode": "overlay",
              "size": 10,
              "solidity": 0.2
             }
            },
            "type": "histogram"
           }
          ],
          "histogram2d": [
           {
            "colorbar": {
             "outlinewidth": 0,
             "tickcolor": "rgb(237,237,237)",
             "ticklen": 6,
             "ticks": "inside"
            },
            "colorscale": [
             [
              0,
              "rgb(20,44,66)"
             ],
             [
              1,
              "rgb(90,179,244)"
             ]
            ],
            "type": "histogram2d"
           }
          ],
          "histogram2dcontour": [
           {
            "colorbar": {
             "outlinewidth": 0,
             "tickcolor": "rgb(237,237,237)",
             "ticklen": 6,
             "ticks": "inside"
            },
            "colorscale": [
             [
              0,
              "rgb(20,44,66)"
             ],
             [
              1,
              "rgb(90,179,244)"
             ]
            ],
            "type": "histogram2dcontour"
           }
          ],
          "mesh3d": [
           {
            "colorbar": {
             "outlinewidth": 0,
             "tickcolor": "rgb(237,237,237)",
             "ticklen": 6,
             "ticks": "inside"
            },
            "type": "mesh3d"
           }
          ],
          "parcoords": [
           {
            "line": {
             "colorbar": {
              "outlinewidth": 0,
              "tickcolor": "rgb(237,237,237)",
              "ticklen": 6,
              "ticks": "inside"
             }
            },
            "type": "parcoords"
           }
          ],
          "pie": [
           {
            "automargin": true,
            "type": "pie"
           }
          ],
          "scatter": [
           {
            "fillpattern": {
             "fillmode": "overlay",
             "size": 10,
             "solidity": 0.2
            },
            "type": "scatter"
           }
          ],
          "scatter3d": [
           {
            "line": {
             "colorbar": {
              "outlinewidth": 0,
              "tickcolor": "rgb(237,237,237)",
              "ticklen": 6,
              "ticks": "inside"
             }
            },
            "marker": {
             "colorbar": {
              "outlinewidth": 0,
              "tickcolor": "rgb(237,237,237)",
              "ticklen": 6,
              "ticks": "inside"
             }
            },
            "type": "scatter3d"
           }
          ],
          "scattercarpet": [
           {
            "marker": {
             "colorbar": {
              "outlinewidth": 0,
              "tickcolor": "rgb(237,237,237)",
              "ticklen": 6,
              "ticks": "inside"
             }
            },
            "type": "scattercarpet"
           }
          ],
          "scattergeo": [
           {
            "marker": {
             "colorbar": {
              "outlinewidth": 0,
              "tickcolor": "rgb(237,237,237)",
              "ticklen": 6,
              "ticks": "inside"
             }
            },
            "type": "scattergeo"
           }
          ],
          "scattergl": [
           {
            "marker": {
             "colorbar": {
              "outlinewidth": 0,
              "tickcolor": "rgb(237,237,237)",
              "ticklen": 6,
              "ticks": "inside"
             }
            },
            "type": "scattergl"
           }
          ],
          "scattermapbox": [
           {
            "marker": {
             "colorbar": {
              "outlinewidth": 0,
              "tickcolor": "rgb(237,237,237)",
              "ticklen": 6,
              "ticks": "inside"
             }
            },
            "type": "scattermapbox"
           }
          ],
          "scatterpolar": [
           {
            "marker": {
             "colorbar": {
              "outlinewidth": 0,
              "tickcolor": "rgb(237,237,237)",
              "ticklen": 6,
              "ticks": "inside"
             }
            },
            "type": "scatterpolar"
           }
          ],
          "scatterpolargl": [
           {
            "marker": {
             "colorbar": {
              "outlinewidth": 0,
              "tickcolor": "rgb(237,237,237)",
              "ticklen": 6,
              "ticks": "inside"
             }
            },
            "type": "scatterpolargl"
           }
          ],
          "scatterternary": [
           {
            "marker": {
             "colorbar": {
              "outlinewidth": 0,
              "tickcolor": "rgb(237,237,237)",
              "ticklen": 6,
              "ticks": "inside"
             }
            },
            "type": "scatterternary"
           }
          ],
          "surface": [
           {
            "colorbar": {
             "outlinewidth": 0,
             "tickcolor": "rgb(237,237,237)",
             "ticklen": 6,
             "ticks": "inside"
            },
            "colorscale": [
             [
              0,
              "rgb(20,44,66)"
             ],
             [
              1,
              "rgb(90,179,244)"
             ]
            ],
            "type": "surface"
           }
          ],
          "table": [
           {
            "cells": {
             "fill": {
              "color": "rgb(237,237,237)"
             },
             "line": {
              "color": "white"
             }
            },
            "header": {
             "fill": {
              "color": "rgb(217,217,217)"
             },
             "line": {
              "color": "white"
             }
            },
            "type": "table"
           }
          ]
         },
         "layout": {
          "annotationdefaults": {
           "arrowhead": 0,
           "arrowwidth": 1
          },
          "autotypenumbers": "strict",
          "coloraxis": {
           "colorbar": {
            "outlinewidth": 0,
            "tickcolor": "rgb(237,237,237)",
            "ticklen": 6,
            "ticks": "inside"
           }
          },
          "colorscale": {
           "sequential": [
            [
             0,
             "rgb(20,44,66)"
            ],
            [
             1,
             "rgb(90,179,244)"
            ]
           ],
           "sequentialminus": [
            [
             0,
             "rgb(20,44,66)"
            ],
            [
             1,
             "rgb(90,179,244)"
            ]
           ]
          },
          "colorway": [
           "#F8766D",
           "#A3A500",
           "#00BF7D",
           "#00B0F6",
           "#E76BF3"
          ],
          "font": {
           "color": "rgb(51,51,51)"
          },
          "geo": {
           "bgcolor": "white",
           "lakecolor": "white",
           "landcolor": "rgb(237,237,237)",
           "showlakes": true,
           "showland": true,
           "subunitcolor": "white"
          },
          "hoverlabel": {
           "align": "left"
          },
          "hovermode": "closest",
          "paper_bgcolor": "white",
          "plot_bgcolor": "rgb(237,237,237)",
          "polar": {
           "angularaxis": {
            "gridcolor": "white",
            "linecolor": "white",
            "showgrid": true,
            "tickcolor": "rgb(51,51,51)",
            "ticks": "outside"
           },
           "bgcolor": "rgb(237,237,237)",
           "radialaxis": {
            "gridcolor": "white",
            "linecolor": "white",
            "showgrid": true,
            "tickcolor": "rgb(51,51,51)",
            "ticks": "outside"
           }
          },
          "scene": {
           "xaxis": {
            "backgroundcolor": "rgb(237,237,237)",
            "gridcolor": "white",
            "gridwidth": 2,
            "linecolor": "white",
            "showbackground": true,
            "showgrid": true,
            "tickcolor": "rgb(51,51,51)",
            "ticks": "outside",
            "zerolinecolor": "white"
           },
           "yaxis": {
            "backgroundcolor": "rgb(237,237,237)",
            "gridcolor": "white",
            "gridwidth": 2,
            "linecolor": "white",
            "showbackground": true,
            "showgrid": true,
            "tickcolor": "rgb(51,51,51)",
            "ticks": "outside",
            "zerolinecolor": "white"
           },
           "zaxis": {
            "backgroundcolor": "rgb(237,237,237)",
            "gridcolor": "white",
            "gridwidth": 2,
            "linecolor": "white",
            "showbackground": true,
            "showgrid": true,
            "tickcolor": "rgb(51,51,51)",
            "ticks": "outside",
            "zerolinecolor": "white"
           }
          },
          "shapedefaults": {
           "fillcolor": "black",
           "line": {
            "width": 0
           },
           "opacity": 0.3
          },
          "ternary": {
           "aaxis": {
            "gridcolor": "white",
            "linecolor": "white",
            "showgrid": true,
            "tickcolor": "rgb(51,51,51)",
            "ticks": "outside"
           },
           "baxis": {
            "gridcolor": "white",
            "linecolor": "white",
            "showgrid": true,
            "tickcolor": "rgb(51,51,51)",
            "ticks": "outside"
           },
           "bgcolor": "rgb(237,237,237)",
           "caxis": {
            "gridcolor": "white",
            "linecolor": "white",
            "showgrid": true,
            "tickcolor": "rgb(51,51,51)",
            "ticks": "outside"
           }
          },
          "xaxis": {
           "automargin": true,
           "gridcolor": "white",
           "linecolor": "white",
           "showgrid": true,
           "tickcolor": "rgb(51,51,51)",
           "ticks": "outside",
           "title": {
            "standoff": 15
           },
           "zerolinecolor": "white"
          },
          "yaxis": {
           "automargin": true,
           "gridcolor": "white",
           "linecolor": "white",
           "showgrid": true,
           "tickcolor": "rgb(51,51,51)",
           "ticks": "outside",
           "title": {
            "standoff": 15
           },
           "zerolinecolor": "white"
          }
         }
        },
        "title": {
         "font": {
          "color": "red",
          "family": "Times New Roman"
         }
        },
        "width": 400,
        "xaxis": {
         "anchor": "y",
         "autorange": true,
         "domain": [
          0,
          1
         ],
         "range": [
          0,
          503.1578947368421
         ],
         "title": {
          "text": "Occurrences"
         },
         "type": "linear"
        },
        "yaxis": {
         "anchor": "x",
         "autorange": true,
         "domain": [
          0,
          1
         ],
         "dtick": [
          "Train Platform",
          "Elevator",
          "Barrier Stump",
          "Flush Door",
          "Chair",
          "Bridge",
          "Push Button",
          "Stop Sign",
          "Turnstile",
          "Maintenance Vehicle",
          "Street Vendor",
          "Bus Stop",
          "Bus",
          "Paratransit Vehicle",
          "Road Divider",
          "Motorcycle",
          "Wet Surface",
          "Fountain",
          "Closed Sidewalk",
          "Fire Hydrant",
          "Uncontrolled Crossing",
          "Mail Box",
          "Yard Waste",
          "Puddle",
          "Sloped Driveway",
          "Gutter",
          "Pillar",
          "Unpaved Sidewalk",
          "Retaining Wall",
          "Raised Entryway",
          "Sign Post",
          "Barrier Post",
          "Trash On Roads",
          "Road Shoulder",
          "Bicycle",
          "Traffic Signals",
          "Driveway(Flat)",
          "Bench",
          "Sign",
          "Crosswalk",
          "Tactile Paving",
          "Trash Bins",
          "Gate",
          "Pedestrian Crossing",
          "Stairs",
          "Lamp Post",
          "Parallel Parking Spot",
          "Accent Paving",
          "Fence",
          "Railing",
          "Roadside Parking",
          "Tree",
          "Slopped Curb",
          "Pole",
          "Wall",
          "Car",
          "Vegetation",
          "Building",
          "Curb",
          "White Cane",
          "Road",
          "Sidewalk",
          "Person With A Disability",
          "Person"
         ],
         "range": [
          -0.5,
          63.5
         ],
         "title": {
          "text": "Class"
         },
         "type": "category"
        }
       }
      },
      "image/png": "[encoded data removed]",
      "text/html": [
       "<div>                            <div id=\"0c75d552-71ee-4ab9-9410-5935f9c1986f\" class=\"plotly-graph-div\" style=\"height:1000px; width:400px;\"></div>            <script type=\"text/javascript\">                require([\"plotly\"], function(Plotly) {                    window.PLOTLYENV=window.PLOTLYENV || {};                                    if (document.getElementById(\"0c75d552-71ee-4ab9-9410-5935f9c1986f\")) {                    Plotly.newPlot(                        \"0c75d552-71ee-4ab9-9410-5935f9c1986f\",                        [{\"alignmentgroup\":\"True\",\"hovertemplate\":\"Occurrences=%{x}<br>Class=%{y}<extra></extra>\",\"legendgroup\":\"\",\"marker\":{\"color\":\"#F8766D\",\"pattern\":{\"shape\":\"\"}},\"name\":\"\",\"offsetgroup\":\"\",\"orientation\":\"h\",\"showlegend\":false,\"textposition\":\"auto\",\"x\":[1,1,2,2,4,4,6,6,7,8,9,9,10,10,11,12,12,12,12,12,15,16,18,23,27,28,35,35,36,36,38,38,39,40,49,49,50,55,56,60,63,63,64,75,87,88,91,98,103,108,124,137,139,161,183,220,232,256,274,276,316,415,453,478],\"xaxis\":\"x\",\"y\":[\"Train Platform\",\"Elevator\",\"Barrier Stump\",\"Flush Door\",\"Chair\",\"Bridge\",\"Push Button\",\"Stop Sign\",\"Turnstile\",\"Maintenance Vehicle\",\"Street Vendor\",\"Bus Stop\",\"Bus\",\"Paratransit Vehicle\",\"Road Divider\",\"Motorcycle\",\"Wet Surface\",\"Fountain\",\"Closed Sidewalk\",\"Fire Hydrant\",\"Uncontrolled Crossing\",\"Mail Box\",\"Yard Waste\",\"Puddle\",\"Sloped Driveway\",\"Gutter\",\"Pillar\",\"Unpaved Sidewalk\",\"Retaining Wall\",\"Raised Entryway\",\"Sign Post\",\"Barrier Post\",\"Trash On Roads\",\"Road Shoulder\",\"Bicycle\",\"Traffic Signals\",\"Driveway(Flat)\",\"Bench\",\"Sign\",\"Crosswalk\",\"Tactile Paving\",\"Trash Bins\",\"Gate\",\"Pedestrian Crossing\",\"Stairs\",\"Lamp Post\",\"Parallel Parking Spot\",\"Accent Paving\",\"Fence\",\"Railing\",\"Roadside Parking\",\"Tree\",\"Slopped Curb\",\"Pole\",\"Wall\",\"Car\",\"Vegetation\",\"Building\",\"Curb\",\"White Cane\",\"Road\",\"Sidewalk\",\"Person With A Disability\",\"Person\"],\"yaxis\":\"y\",\"type\":\"bar\",\"width\":0.65}],                        {\"template\":{\"data\":{\"barpolar\":[{\"marker\":{\"line\":{\"color\":\"rgb(237,237,237)\",\"width\":0.5},\"pattern\":{\"fillmode\":\"overlay\",\"size\":10,\"solidity\":0.2}},\"type\":\"barpolar\"}],\"bar\":[{\"error_x\":{\"color\":\"rgb(51,51,51)\"},\"error_y\":{\"color\":\"rgb(51,51,51)\"},\"marker\":{\"line\":{\"color\":\"rgb(237,237,237)\",\"width\":0.5},\"pattern\":{\"fillmode\":\"overlay\",\"size\":10,\"solidity\":0.2}},\"type\":\"bar\"}],\"carpet\":[{\"aaxis\":{\"endlinecolor\":\"rgb(51,51,51)\",\"gridcolor\":\"white\",\"linecolor\":\"white\",\"minorgridcolor\":\"white\",\"startlinecolor\":\"rgb(51,51,51)\"},\"baxis\":{\"endlinecolor\":\"rgb(51,51,51)\",\"gridcolor\":\"white\",\"linecolor\":\"white\",\"minorgridcolor\":\"white\",\"startlinecolor\":\"rgb(51,51,51)\"},\"type\":\"carpet\"}],\"choropleth\":[{\"colorbar\":{\"outlinewidth\":0,\"tickcolor\":\"rgb(237,237,237)\",\"ticklen\":6,\"ticks\":\"inside\"},\"type\":\"choropleth\"}],\"contourcarpet\":[{\"colorbar\":{\"outlinewidth\":0,\"tickcolor\":\"rgb(237,237,237)\",\"ticklen\":6,\"ticks\":\"inside\"},\"type\":\"contourcarpet\"}],\"contour\":[{\"colorbar\":{\"outlinewidth\":0,\"tickcolor\":\"rgb(237,237,237)\",\"ticklen\":6,\"ticks\":\"inside\"},\"colorscale\":[[0,\"rgb(20,44,66)\"],[1,\"rgb(90,179,244)\"]],\"type\":\"contour\"}],\"heatmapgl\":[{\"colorbar\":{\"outlinewidth\":0,\"tickcolor\":\"rgb(237,237,237)\",\"ticklen\":6,\"ticks\":\"inside\"},\"colorscale\":[[0,\"rgb(20,44,66)\"],[1,\"rgb(90,179,244)\"]],\"type\":\"heatmapgl\"}],\"heatmap\":[{\"colorbar\":{\"outlinewidth\":0,\"tickcolor\":\"rgb(237,237,237)\",\"ticklen\":6,\"ticks\":\"inside\"},\"colorscale\":[[0,\"rgb(20,44,66)\"],[1,\"rgb(90,179,244)\"]],\"type\":\"heatmap\"}],\"histogram2dcontour\":[{\"colorbar\":{\"outlinewidth\":0,\"tickcolor\":\"rgb(237,237,237)\",\"ticklen\":6,\"ticks\":\"inside\"},\"colorscale\":[[0,\"rgb(20,44,66)\"],[1,\"rgb(90,179,244)\"]],\"type\":\"histogram2dcontour\"}],\"histogram2d\":[{\"colorbar\":{\"outlinewidth\":0,\"tickcolor\":\"rgb(237,237,237)\",\"ticklen\":6,\"ticks\":\"inside\"},\"colorscale\":[[0,\"rgb(20,44,66)\"],[1,\"rgb(90,179,244)\"]],\"type\":\"histogram2d\"}],\"histogram\":[{\"marker\":{\"pattern\":{\"fillmode\":\"overlay\",\"size\":10,\"solidity\":0.2}},\"type\":\"histogram\"}],\"mesh3d\":[{\"colorbar\":{\"outlinewidth\":0,\"tickcolor\":\"rgb(237,237,237)\",\"ticklen\":6,\"ticks\":\"inside\"},\"type\":\"mesh3d\"}],\"parcoords\":[{\"line\":{\"colorbar\":{\"outlinewidth\":0,\"tickcolor\":\"rgb(237,237,237)\",\"ticklen\":6,\"ticks\":\"inside\"}},\"type\":\"parcoords\"}],\"pie\":[{\"automargin\":true,\"type\":\"pie\"}],\"scatter3d\":[{\"line\":{\"colorbar\":{\"outlinewidth\":0,\"tickcolor\":\"rgb(237,237,237)\",\"ticklen\":6,\"ticks\":\"inside\"}},\"marker\":{\"colorbar\":{\"outlinewidth\":0,\"tickcolor\":\"rgb(237,237,237)\",\"ticklen\":6,\"ticks\":\"inside\"}},\"type\":\"scatter3d\"}],\"scattercarpet\":[{\"marker\":{\"colorbar\":{\"outlinewidth\":0,\"tickcolor\":\"rgb(237,237,237)\",\"ticklen\":6,\"ticks\":\"inside\"}},\"type\":\"scattercarpet\"}],\"scattergeo\":[{\"marker\":{\"colorbar\":{\"outlinewidth\":0,\"tickcolor\":\"rgb(237,237,237)\",\"ticklen\":6,\"ticks\":\"inside\"}},\"type\":\"scattergeo\"}],\"scattergl\":[{\"marker\":{\"colorbar\":{\"outlinewidth\":0,\"tickcolor\":\"rgb(237,237,237)\",\"ticklen\":6,\"ticks\":\"inside\"}},\"type\":\"scattergl\"}],\"scattermapbox\":[{\"marker\":{\"colorbar\":{\"outlinewidth\":0,\"tickcolor\":\"rgb(237,237,237)\",\"ticklen\":6,\"ticks\":\"inside\"}},\"type\":\"scattermapbox\"}],\"scatterpolargl\":[{\"marker\":{\"colorbar\":{\"outlinewidth\":0,\"tickcolor\":\"rgb(237,237,237)\",\"ticklen\":6,\"ticks\":\"inside\"}},\"type\":\"scatterpolargl\"}],\"scatterpolar\":[{\"marker\":{\"colorbar\":{\"outlinewidth\":0,\"tickcolor\":\"rgb(237,237,237)\",\"ticklen\":6,\"ticks\":\"inside\"}},\"type\":\"scatterpolar\"}],\"scatter\":[{\"fillpattern\":{\"fillmode\":\"overlay\",\"size\":10,\"solidity\":0.2},\"type\":\"scatter\"}],\"scatterternary\":[{\"marker\":{\"colorbar\":{\"outlinewidth\":0,\"tickcolor\":\"rgb(237,237,237)\",\"ticklen\":6,\"ticks\":\"inside\"}},\"type\":\"scatterternary\"}],\"surface\":[{\"colorbar\":{\"outlinewidth\":0,\"tickcolor\":\"rgb(237,237,237)\",\"ticklen\":6,\"ticks\":\"inside\"},\"colorscale\":[[0,\"rgb(20,44,66)\"],[1,\"rgb(90,179,244)\"]],\"type\":\"surface\"}],\"table\":[{\"cells\":{\"fill\":{\"color\":\"rgb(237,237,237)\"},\"line\":{\"color\":\"white\"}},\"header\":{\"fill\":{\"color\":\"rgb(217,217,217)\"},\"line\":{\"color\":\"white\"}},\"type\":\"table\"}]},\"layout\":{\"annotationdefaults\":{\"arrowhead\":0,\"arrowwidth\":1},\"autotypenumbers\":\"strict\",\"coloraxis\":{\"colorbar\":{\"outlinewidth\":0,\"tickcolor\":\"rgb(237,237,237)\",\"ticklen\":6,\"ticks\":\"inside\"}},\"colorscale\":{\"sequential\":[[0,\"rgb(20,44,66)\"],[1,\"rgb(90,179,244)\"]],\"sequentialminus\":[[0,\"rgb(20,44,66)\"],[1,\"rgb(90,179,244)\"]]},\"colorway\":[\"#F8766D\",\"#A3A500\",\"#00BF7D\",\"#00B0F6\",\"#E76BF3\"],\"font\":{\"color\":\"rgb(51,51,51)\"},\"geo\":{\"bgcolor\":\"white\",\"lakecolor\":\"white\",\"landcolor\":\"rgb(237,237,237)\",\"showlakes\":true,\"showland\":true,\"subunitcolor\":\"white\"},\"hoverlabel\":{\"align\":\"left\"},\"hovermode\":\"closest\",\"paper_bgcolor\":\"white\",\"plot_bgcolor\":\"rgb(237,237,237)\",\"polar\":{\"angularaxis\":{\"gridcolor\":\"white\",\"linecolor\":\"white\",\"showgrid\":true,\"tickcolor\":\"rgb(51,51,51)\",\"ticks\":\"outside\"},\"bgcolor\":\"rgb(237,237,237)\",\"radialaxis\":{\"gridcolor\":\"white\",\"linecolor\":\"white\",\"showgrid\":true,\"tickcolor\":\"rgb(51,51,51)\",\"ticks\":\"outside\"}},\"scene\":{\"xaxis\":{\"backgroundcolor\":\"rgb(237,237,237)\",\"gridcolor\":\"white\",\"gridwidth\":2,\"linecolor\":\"white\",\"showbackground\":true,\"showgrid\":true,\"tickcolor\":\"rgb(51,51,51)\",\"ticks\":\"outside\",\"zerolinecolor\":\"white\"},\"yaxis\":{\"backgroundcolor\":\"rgb(237,237,237)\",\"gridcolor\":\"white\",\"gridwidth\":2,\"linecolor\":\"white\",\"showbackground\":true,\"showgrid\":true,\"tickcolor\":\"rgb(51,51,51)\",\"ticks\":\"outside\",\"zerolinecolor\":\"white\"},\"zaxis\":{\"backgroundcolor\":\"rgb(237,237,237)\",\"gridcolor\":\"white\",\"gridwidth\":2,\"linecolor\":\"white\",\"showbackground\":true,\"showgrid\":true,\"tickcolor\":\"rgb(51,51,51)\",\"ticks\":\"outside\",\"zerolinecolor\":\"white\"}},\"shapedefaults\":{\"fillcolor\":\"black\",\"line\":{\"width\":0},\"opacity\":0.3},\"ternary\":{\"aaxis\":{\"gridcolor\":\"white\",\"linecolor\":\"white\",\"showgrid\":true,\"tickcolor\":\"rgb(51,51,51)\",\"ticks\":\"outside\"},\"baxis\":{\"gridcolor\":\"white\",\"linecolor\":\"white\",\"showgrid\":true,\"tickcolor\":\"rgb(51,51,51)\",\"ticks\":\"outside\"},\"bgcolor\":\"rgb(237,237,237)\",\"caxis\":{\"gridcolor\":\"white\",\"linecolor\":\"white\",\"showgrid\":true,\"tickcolor\":\"rgb(51,51,51)\",\"ticks\":\"outside\"}},\"xaxis\":{\"automargin\":true,\"gridcolor\":\"white\",\"linecolor\":\"white\",\"showgrid\":true,\"tickcolor\":\"rgb(51,51,51)\",\"ticks\":\"outside\",\"title\":{\"standoff\":15},\"zerolinecolor\":\"white\"},\"yaxis\":{\"automargin\":true,\"gridcolor\":\"white\",\"linecolor\":\"white\",\"showgrid\":true,\"tickcolor\":\"rgb(51,51,51)\",\"ticks\":\"outside\",\"title\":{\"standoff\":15},\"zerolinecolor\":\"white\"}}},\"xaxis\":{\"anchor\":\"y\",\"domain\":[0.0,1.0],\"title\":{\"text\":\"Occurrences\"}},\"yaxis\":{\"anchor\":\"x\",\"domain\":[0.0,1.0],\"title\":{\"text\":\"Class\"},\"dtick\":[\"Train Platform\",\"Elevator\",\"Barrier Stump\",\"Flush Door\",\"Chair\",\"Bridge\",\"Push Button\",\"Stop Sign\",\"Turnstile\",\"Maintenance Vehicle\",\"Street Vendor\",\"Bus Stop\",\"Bus\",\"Paratransit Vehicle\",\"Road Divider\",\"Motorcycle\",\"Wet Surface\",\"Fountain\",\"Closed Sidewalk\",\"Fire Hydrant\",\"Uncontrolled Crossing\",\"Mail Box\",\"Yard Waste\",\"Puddle\",\"Sloped Driveway\",\"Gutter\",\"Pillar\",\"Unpaved Sidewalk\",\"Retaining Wall\",\"Raised Entryway\",\"Sign Post\",\"Barrier Post\",\"Trash On Roads\",\"Road Shoulder\",\"Bicycle\",\"Traffic Signals\",\"Driveway(Flat)\",\"Bench\",\"Sign\",\"Crosswalk\",\"Tactile Paving\",\"Trash Bins\",\"Gate\",\"Pedestrian Crossing\",\"Stairs\",\"Lamp Post\",\"Parallel Parking Spot\",\"Accent Paving\",\"Fence\",\"Railing\",\"Roadside Parking\",\"Tree\",\"Slopped Curb\",\"Pole\",\"Wall\",\"Car\",\"Vegetation\",\"Building\",\"Curb\",\"White Cane\",\"Road\",\"Sidewalk\",\"Person With A Disability\",\"Person\"]},\"legend\":{\"tracegroupgap\":0,\"title\":{\"font\":{\"color\":\"green\"}},\"orientation\":\"h\",\"yanchor\":\"bottom\",\"y\":1.02,\"xanchor\":\"right\",\"x\":1},\"margin\":{\"t\":60},\"barmode\":\"relative\",\"height\":1000,\"width\":400,\"font\":{\"family\":\"Courier New\",\"color\":\"blue\",\"size\":10},\"title\":{\"font\":{\"family\":\"Times New Roman\",\"color\":\"red\"}}},                        {\"responsive\": true}                    ).then(function(){\n",
       "                            \n",
       "var gd = document.getElementById('0c75d552-71ee-4ab9-9410-5935f9c1986f');\n",
       "var x = new MutationObserver(function (mutations, observer) {{\n",
       "        var display = window.getComputedStyle(gd).display;\n",
       "        if (!display || display === 'none') {{\n",
       "            console.log([gd, 'removed!']);\n",
       "            Plotly.purge(gd);\n",
       "            observer.disconnect();\n",
       "        }}\n",
       "}});\n",
       "\n",
       "// Listen for the removal of the full notebook cells\n",
       "var notebookContainer = gd.closest('#notebook-container');\n",
       "if (notebookContainer) {{\n",
       "    x.observe(notebookContainer, {childList: true});\n",
       "}}\n",
       "\n",
       "// Listen for the clearing of the current output cell\n",
       "var outputEl = gd.closest('.output');\n",
       "if (outputEl) {{\n",
       "    x.observe(outputEl, {childList: true});\n",
       "}}\n",
       "\n",
       "                        })                };                });            </script>        </div>"
      ]
     },
     "metadata": {},
     "output_type": "display_data"
    }
   ],
   "source": [
    "\n",
    "fig = px.bar(\n",
    "    occur_df_perc, \n",
    "    y='Class', \n",
    "    x='Occurrences', \n",
    "    template=\"ggplot2\", \n",
    "    orientation='h', \n",
    "    width=400, \n",
    "    height=1000\n",
    ")\n",
    "fig.update_traces(width=0.65)\n",
    "fig.update_yaxes(dtick=occur_df_perc['Class'])\n",
    "fig.update_layout(\n",
    "    font_family=\"Courier New\",\n",
    "    font_color=\"blue\",\n",
    "    title_font_family=\"Times New Roman\",\n",
    "    title_font_color=\"red\",\n",
    "    legend_title_font_color=\"green\",\n",
    "    font=dict(size=10),\n",
    ")\n",
    "fig.update_layout(legend=dict(\n",
    "    orientation=\"h\",\n",
    "    yanchor=\"bottom\",\n",
    "    y=1.02,\n",
    "    xanchor=\"right\",\n",
    "    x=1\n",
    "))\n",
    "\n",
    "# filename = f'{datetime.now().strftime(\"%Y_%m_%d-%I_%M_%S_%p\")}.pdf'\n",
    "\n",
    "fig.write_image(\n",
    "    os.path.join(output_path_occur, filename), \n",
    "    format='pdf'\n",
    ")\n",
    "fig.show()"
   ]
  },
  {
   "cell_type": "code",
   "execution_count": 11,
   "metadata": {},
   "outputs": [],
   "source": [
    "# order = list(hist_data_dict.keys())"
   ]
  },
  {
   "cell_type": "code",
   "execution_count": 12,
   "metadata": {},
   "outputs": [],
   "source": [
    "# hist_dict = {'wrong prediction': hist_data}\n",
    "# hist_df = pd.DataFrame.from_dict(hist_dict)"
   ]
  },
  {
   "cell_type": "code",
   "execution_count": 13,
   "metadata": {},
   "outputs": [],
   "source": [
    "# fig = px.histogram(hist_df, x=\"wrong prediction\", template=\"ggplot2\",\n",
    "                   # category_orders={\"wrong prediction\": order})\n",
    "# fig.show()"
   ]
  }
 ],
 "metadata": {
  "kernelspec": {
   "display_name": "Python 3 (ipykernel)",
   "language": "python",
   "name": "python3"
  },
  "language_info": {
   "codemirror_mode": {
    "name": "ipython",
    "version": 3
   },
   "file_extension": ".py",
   "mimetype": "text/x-python",
   "name": "python",
   "nbconvert_exporter": "python",
   "pygments_lexer": "ipython3",
   "version": "3.8.16"
  }
 },
 "nbformat": 4,
 "nbformat_minor": 4
}
