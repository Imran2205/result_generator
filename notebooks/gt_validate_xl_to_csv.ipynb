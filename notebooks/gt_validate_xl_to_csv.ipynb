{
 "cells": [
  {
   "cell_type": "code",
   "execution_count": 19,
   "outputs": [],
   "source": [
    "import pandas as pd\n",
    "import os\n",
    "import glob\n"
   ],
   "metadata": {
    "collapsed": false,
    "ExecuteTime": {
     "start_time": "2023-04-04T19:28:39.943213Z",
     "end_time": "2023-04-04T19:28:39.948219Z"
    }
   }
  },
  {
   "cell_type": "code",
   "execution_count": 20,
   "outputs": [],
   "source": [
    "drop_class = [\n",
    "    \"Brick\", \"Cloudy\", \"Day\", \"Jaywalker\", \"Night\", \"Obstacle on the sidewalk\",\n",
    "    \"Obstacle on the street\", \"Raining\", \"Stone Block\", \"Sunny\", \"Zebra Crossing\"\n",
    "]\n",
    "drop_class = [x.lower() for x in drop_class]"
   ],
   "metadata": {
    "collapsed": false,
    "ExecuteTime": {
     "start_time": "2023-04-04T19:28:39.952609Z",
     "end_time": "2023-04-04T19:28:39.963251Z"
    }
   }
  },
  {
   "cell_type": "code",
   "execution_count": 21,
   "outputs": [],
   "source": [
    "gt_xl_path = \"/Users/imrankabir/Downloads/gt_vqa\"\n",
    "gt_out_csv_path = \"/Users/imrankabir/Downloads/gt_vqa_csv\""
   ],
   "metadata": {
    "collapsed": false,
    "ExecuteTime": {
     "start_time": "2023-04-04T19:28:39.960678Z",
     "end_time": "2023-04-04T19:28:39.968988Z"
    }
   }
  },
  {
   "cell_type": "code",
   "execution_count": 22,
   "outputs": [],
   "source": [
    "gt_files =glob.glob(\n",
    "    os.path.join(\n",
    "        gt_xl_path,\n",
    "        '*.xlsx'\n",
    "    )\n",
    ")"
   ],
   "metadata": {
    "collapsed": false,
    "ExecuteTime": {
     "start_time": "2023-04-04T19:28:39.973701Z",
     "end_time": "2023-04-04T19:28:39.976210Z"
    }
   }
  },
  {
   "cell_type": "code",
   "execution_count": 25,
   "outputs": [
    {
     "name": "stdout",
     "output_type": "stream",
     "text": [
      "video_0_segment_0.xlsx\n"
     ]
    }
   ],
   "source": [
    "for file in gt_files:\n",
    "    file_name = os.path.basename(file)\n",
    "    df = pd.read_excel(file, index_col=[0])\n",
    "    df.dropna(how='all', axis=1, inplace=True)\n",
    "    df.dropna(how='all', axis=0, inplace=True)\n",
    "    df.index = df.index.str.lower()\n",
    "    if len(df.columns) < 3:\n",
    "        print(file_name)\n",
    "        continue\n",
    "    df = df.drop(index=drop_class)\n",
    "    df.to_csv(os.path.join(gt_out_csv_path, file_name.replace('.xlsx', '.csv')))"
   ],
   "metadata": {
    "collapsed": false,
    "ExecuteTime": {
     "start_time": "2023-04-04T19:29:29.492784Z",
     "end_time": "2023-04-04T19:29:33.983117Z"
    }
   }
  },
  {
   "cell_type": "code",
   "execution_count": 28,
   "outputs": [
    {
     "data": {
      "text/plain": "Index(['frame_0', 'frame_1', 'frame_2', 'frame_3', 'frame_4', 'frame_5',\n       'frame_6', 'frame_7', 'frame_8', 'frame_9', 'frame_10', 'frame_11',\n       'frame_12', 'frame_13', 'frame_14', 'frame_15', 'frame_16', 'frame_17',\n       'frame_18', 'frame_19', 'frame_20', 'frame_21', 'frame_22', 'frame_23',\n       'frame_24', 'frame_25'],\n      dtype='object')"
     },
     "execution_count": 28,
     "metadata": {},
     "output_type": "execute_result"
    }
   ],
   "source": [
    "df = pd.read_csv(\"/Users/imrankabir/Downloads/gt_vqa_csv/video_1_segment_4.csv\")\n",
    "df_columns = df.columns[1:]\n",
    "df_columns"
   ],
   "metadata": {
    "collapsed": false,
    "ExecuteTime": {
     "start_time": "2023-04-04T19:41:33.578581Z",
     "end_time": "2023-04-04T19:41:33.585281Z"
    }
   }
  }
 ],
 "metadata": {
  "kernelspec": {
   "display_name": "Python 3",
   "language": "python",
   "name": "python3"
  },
  "language_info": {
   "codemirror_mode": {
    "name": "ipython",
    "version": 2
   },
   "file_extension": ".py",
   "mimetype": "text/x-python",
   "name": "python",
   "nbconvert_exporter": "python",
   "pygments_lexer": "ipython2",
   "version": "2.7.6"
  }
 },
 "nbformat": 4,
 "nbformat_minor": 0
}
