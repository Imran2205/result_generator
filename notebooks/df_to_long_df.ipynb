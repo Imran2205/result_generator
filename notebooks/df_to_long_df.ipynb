{
 "cells": [
  {
   "cell_type": "code",
   "execution_count": 6,
   "metadata": {
    "ExecuteTime": {
     "end_time": "2023-04-05T21:07:00.232513Z",
     "start_time": "2023-04-05T21:07:00.217948Z"
    },
    "collapsed": false,
    "jupyter": {
     "outputs_hidden": false
    }
   },
   "outputs": [],
   "source": [
    "import os\n",
    "import pandas as pd\n",
    "import glob\n"
   ]
  },
  {
   "cell_type": "code",
   "execution_count": 11,
   "metadata": {
    "ExecuteTime": {
     "end_time": "2023-04-05T21:28:47.722188Z",
     "start_time": "2023-04-05T21:28:47.717192Z"
    },
    "collapsed": false,
    "jupyter": {
     "outputs_hidden": false
    }
   },
   "outputs": [],
   "source": [
    "csv_folder = \"/Users/imrankabir/Desktop/research/vqa_accessibility/result_generator/data/sim_data_fina/csv\"\n",
    "out_path = \"/Users/imrankabir/Desktop/research/vqa_accessibility/result_generator/data/sim_data_fina/csv_long\""
   ]
  },
  {
   "cell_type": "code",
   "execution_count": 12,
   "metadata": {
    "ExecuteTime": {
     "end_time": "2023-04-05T21:28:49.414706Z",
     "start_time": "2023-04-05T21:28:49.412328Z"
    },
    "collapsed": false,
    "jupyter": {
     "outputs_hidden": false
    }
   },
   "outputs": [],
   "source": [
    "csv_files = sorted(glob.glob(\n",
    "    os.path.join(\n",
    "        csv_folder,\n",
    "        '*.csv'\n",
    "    )\n",
    "))"
   ]
  },
  {
   "cell_type": "code",
   "execution_count": 13,
   "metadata": {
    "ExecuteTime": {
     "end_time": "2023-04-05T21:28:50.677159Z",
     "start_time": "2023-04-05T21:28:50.673754Z"
    },
    "collapsed": false,
    "jupyter": {
     "outputs_hidden": false
    }
   },
   "outputs": [],
   "source": [
    "show_line = [\"Similarity (VQA-based)\", \"Similarity (Human)\", \"Similarity (Feature-based)\", \"Similarity (Lavis-VQA-based)\"]\n",
    "select_line = [\n",
    "    \"Similarity (VQA-based)\", \"Similarity (Human)\", \"Similarity (Feature-based)\", \"Similarity (Lavis-VQA-based)\"\n",
    "]"
   ]
  },
  {
   "cell_type": "code",
   "execution_count": 14,
   "metadata": {
    "ExecuteTime": {
     "end_time": "2023-04-05T21:28:52.307546Z",
     "start_time": "2023-04-05T21:28:52.210867Z"
    },
    "collapsed": false,
    "jupyter": {
     "outputs_hidden": false
    }
   },
   "outputs": [],
   "source": [
    "for csv_file in csv_files:\n",
    "    vid = csv_file.split('-')[1]\n",
    "    seg = csv_file.split('-')[-1].split('.')[0]\n",
    "\n",
    "    df = pd.read_csv(csv_file, index_col = [0])\n",
    "    df2 = pd.melt(\n",
    "        df, id_vars=['frame pair'],\n",
    "        var_name = 'Label',\n",
    "        value_vars = select_line,\n",
    "        value_name = 'Value'\n",
    "    )\n",
    "    df2.set_index(['frame pair'], inplace=True)\n",
    "    df2['frame pair'] = df2.index\n",
    "\n",
    "    df2.to_csv(\n",
    "        os.path.join(\n",
    "            out_path,\n",
    "            os.path.basename(csv_file)\n",
    "        )\n",
    "    )"
   ]
  }
 ],
 "metadata": {
  "kernelspec": {
   "display_name": "Python 3 (ipykernel)",
   "language": "python",
   "name": "python3"
  },
  "language_info": {
   "codemirror_mode": {
    "name": "ipython",
    "version": 3
   },
   "file_extension": ".py",
   "mimetype": "text/x-python",
   "name": "python",
   "nbconvert_exporter": "python",
   "pygments_lexer": "ipython3",
   "version": "3.8.16"
  }
 },
 "nbformat": 4,
 "nbformat_minor": 4
}
